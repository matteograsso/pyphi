{
 "cells": [
  {
   "cell_type": "markdown",
   "metadata": {},
   "source": [
    "# a spring coupled mass simulator to create positions of mechanisms and purviews of a CES "
   ]
  },
  {
   "cell_type": "code",
   "execution_count": 1,
   "metadata": {},
   "outputs": [],
   "source": [
    "%load_ext autoreload\n",
    "%autoreload 2"
   ]
  },
  {
   "cell_type": "code",
   "execution_count": 2,
   "metadata": {},
   "outputs": [],
   "source": [
    "%load_ext blackcellmagic"
   ]
  },
  {
   "cell_type": "code",
   "execution_count": 3,
   "metadata": {},
   "outputs": [
    {
     "name": "stdout",
     "output_type": "stream",
     "text": [
      "\n",
      "Welcome to PyPhi!\n",
      "\n",
      "If you use PyPhi in your research, please cite the paper:\n",
      "\n",
      "  Mayner WGP, Marshall W, Albantakis L, Findlay G, Marchman R, Tononi G.\n",
      "  (2018). PyPhi: A toolbox for integrated information theory.\n",
      "  PLOS Computational Biology 14(7): e1006343.\n",
      "  https://doi.org/10.1371/journal.pcbi.1006343\n",
      "\n",
      "Documentation is available online (or with the built-in `help()` function):\n",
      "  https://pyphi.readthedocs.io\n",
      "\n",
      "To report issues, please use the issue tracker on the GitHub repository:\n",
      "  https://github.com/wmayner/pyphi\n",
      "\n",
      "For general discussion, you are welcome to join the pyphi-users group:\n",
      "  https://groups.google.com/forum/#!forum/pyphi-users\n",
      "\n",
      "To suppress this message, either:\n",
      "  - Set `WELCOME_OFF: true` in your `pyphi_config.yml` file, or\n",
      "  - Set the environment variable PYPHI_WELCOME_OFF to any value in your shell:\n",
      "        export PYPHI_WELCOME_OFF='yes'\n",
      "\n"
     ]
    }
   ],
   "source": [
    "import numpy as np\n",
    "import math\n",
    "import pickle as pkl\n",
    "from scipy.special import comb\n",
    "\n",
    "from pyphi import visualize as viz\n",
    "from pyphi import relations as rel\n",
    "\n",
    "import matplotlib.pyplot as plt\n",
    "import string\n",
    "\n",
    "import random\n",
    "import imageio"
   ]
  },
  {
   "cell_type": "code",
   "execution_count": 19,
   "metadata": {},
   "outputs": [],
   "source": [
    "\n",
    "def compute_forces(\n",
    "    x,\n",
    "    y,\n",
    "    z,\n",
    "    vx,\n",
    "    vy,\n",
    "    vz,\n",
    "    spring_constants,\n",
    "    friction_factor=1,\n",
    "    repulsion_factor=1,\n",
    "    spring_factor=1,\n",
    "):\n",
    "\n",
    "    N = len(x)\n",
    "    Fx = []\n",
    "    Fy = []\n",
    "    Fz = []\n",
    "    for i in range(N):\n",
    "\n",
    "        F = np.zeros(3)\n",
    "        for j in range(N):\n",
    "            if i != j:\n",
    "                # computing distance\n",
    "                distance_vector = [x[i] - x[j], y[i] - y[j], z[i] - z[j]]\n",
    "                distance = np.sqrt(np.sum([d ** 2 for d in distance_vector]))\n",
    "                \n",
    "                # making sure distance is not 0\n",
    "                if distance<0.1:\n",
    "                    distance_vector = 0.05+np.random.rand(3)*0.1\n",
    "                    distance = np.sqrt(np.sum([d ** 2 for d in distance_vector]))\n",
    "                unit_vector = [d / distance for d in distance_vector]\n",
    "\n",
    "                # computing spring forces\n",
    "                spring_force_magnitude = (\n",
    "                    distance * spring_constants[i, j] * spring_factor\n",
    "                )\n",
    "                spring_force_vector = np.array(\n",
    "                    [-spring_force_magnitude * u for u in unit_vector]\n",
    "                )\n",
    "\n",
    "                # computing repulsive force\n",
    "                repulsive_force_magnitude = np.sum(spring_constants[j,:]) * repulsion_factor / (distance**2) / N\n",
    "                repulsive_force_vector = np.array(\n",
    "                    [repulsive_force_magnitude * u for u in unit_vector]\n",
    "                )\n",
    "\n",
    "                # summing total forces\n",
    "                F += spring_force_vector + repulsive_force_vector\n",
    "\n",
    "        # computing friction force\n",
    "        total_speed = np.sqrt(vx[i] ** 2 + vy[i] ** 2 + vz[i] ** 2)\n",
    "        friction_magnitude = total_speed * friction_factor\n",
    "        friction_vector = np.array(\n",
    "            [\n",
    "                friction_magnitude * v / total_speed if total_speed > 0 else 0\n",
    "                for v in [vx[i], vy[i], vz[i]]\n",
    "            ]\n",
    "        )\n",
    "        \n",
    "        Fx.append(F[0] - friction_vector[0])\n",
    "        Fy.append(F[1] - friction_vector[1])\n",
    "        Fz.append(F[2] - friction_vector[2])\n",
    "\n",
    "    return Fx, Fy, Fz\n",
    "\n",
    "\n",
    "def update_position_and_velocity(x, y, z, vx, vy, vz, Fx, Fy, Fz, delta, mass=None):\n",
    "    if mass == None:\n",
    "        mass = np.ones(len(x))\n",
    "\n",
    "    for i in range(len(x)):\n",
    "        ax = Fx[i] / mass[i]\n",
    "        ay = Fy[i] / mass[i]\n",
    "        az = Fz[i] / mass[i]\n",
    "        vx[i] = vx[i] + (ax * delta)\n",
    "        vy[i] = vy[i] + (ay * delta)\n",
    "        vz[i] = vz[i] + (az * delta)\n",
    "        x[i] = x[i] + (vx[i] * delta)\n",
    "        y[i] = y[i] + (vy[i] * delta)\n",
    "        z[i] = z[i] + (vz[i] * delta)\n",
    "\n",
    "    return x, y, z, vx, vy, vz\n",
    "\n",
    "\n",
    "def equilibrate(\n",
    "    spring_constants,\n",
    "    x,\n",
    "    y,\n",
    "    z=None,\n",
    "    vx=None,\n",
    "    vy=None,\n",
    "    vz=None,\n",
    "    friction_factor=2,\n",
    "    repulsion_factor=1,\n",
    "    spring_factor=1,\n",
    "    T=100,\n",
    "    delta=0.1,\n",
    "    mass=None,\n",
    "    immovable=[]\n",
    "):\n",
    "    if z is None:\n",
    "        z = np.zeros(len(x))\n",
    "    if vx is None:\n",
    "        vx = np.zeros(len(x))\n",
    "    if vy is None:\n",
    "        vy = np.zeros(len(x))\n",
    "    if vz is None:\n",
    "        vz = np.zeros(len(x))\n",
    "\n",
    "    path = []\n",
    "    for t in range(T):\n",
    "        Fx, Fy, Fz = compute_forces(\n",
    "            x,\n",
    "            y,\n",
    "            z,\n",
    "            vx,\n",
    "            vy,\n",
    "            vz,\n",
    "            spring_constants,\n",
    "            friction_factor,\n",
    "            repulsion_factor,\n",
    "            spring_factor,\n",
    "        )\n",
    "        \n",
    "        # removing forces and velocities from immovable components\n",
    "        for i in immovable:\n",
    "            Fx[i],Fy[i],Fz[i],vx[i],vy[i],vz[i] = 0,0,0,0,0,0\n",
    "        \n",
    "        x, y, z, vx, vy, vz = update_position_and_velocity(\n",
    "            x, y, z, vx, vy, vz, Fx, Fy, Fz, delta, mass\n",
    "        )\n",
    "        \n",
    "        path.append([x.copy(), y.copy(), z.copy()])\n",
    "\n",
    "    return np.array(path)\n",
    "\n",
    "\n",
    "def initialize_positions(ces, center=(1, 1), z=0, radius=1,purview_scale=0.9,mech_base=True):\n",
    "    \n",
    "    if mech_base:\n",
    "        aux = construct_mechanism_base(len(ces[-1].mechanism),center,0.1,0.1)\n",
    "        mechs = [m for mm in aux for m in mm]\n",
    "    else:\n",
    "        mechs = viz.regular_polygon(\n",
    "            len(ces), center=center, angle=0, z=0, radius=radius, scale=1\n",
    "        )\n",
    "        \n",
    "    purviews = viz.regular_polygon(\n",
    "        2 * len(ces),\n",
    "        center=center,\n",
    "        angle=math.pi / (len(ces)),\n",
    "        z=0,\n",
    "        radius=radius,\n",
    "        scale=purview_scale,\n",
    "    )\n",
    "    \n",
    "    xyz = np.array(mechs + purviews)\n",
    "    \n",
    "    return (xyz[:,0],xyz[:,1],xyz[:,2])\n",
    "\n",
    "\n",
    "def get_interactions(ces, rels, adjustment_factor=1, adjust_force_by_phi=True):\n",
    "\n",
    "    separated_ces = rel.separate_ces(ces)\n",
    "    N = len(ces)\n",
    "    M = len(separated_ces)\n",
    "\n",
    "    # denote what components each purview will be affected by\n",
    "    # first the mechanisms\n",
    "    features_mechs = np.zeros((M, N))\n",
    "    for i in range(N):\n",
    "        features_mechs[2 * i : 2 * i + 2, i] = 1\n",
    "\n",
    "    # next the relations\n",
    "    features_rels = viz.feature_matrix(rel.separate_ces(ces), rels)\n",
    "    features_rels = viz.feature_matrix(rel.separate_ces(ces), rels)\n",
    "    # features now contains information about any distinction or relation each purview is associated to\n",
    "    \n",
    "    # next, we exchange the 1's with phi values\n",
    "    if adjust_force_by_phi:\n",
    "        # frist for distinctions\n",
    "        for i in range(M):\n",
    "            features_mechs[i, :] *= separated_ces[i].phi\n",
    "\n",
    "        for i in range(len(rels)):\n",
    "            features_rels[:, i] *= rels[i].phi / len(rels[i].relata)\n",
    "\n",
    "    # getting the interactions between constituents\n",
    "    interactions = np.zeros((N + M, N + M))\n",
    "\n",
    "    # filling with mechanism-purview interactions\n",
    "    interactions[N:, :N] = features_mechs\n",
    "    interactions[:N, N:] = np.transpose(features_mechs)\n",
    "\n",
    "    # now for the purview-purview interactions\n",
    "    purview_purview = np.zeros((M, M))\n",
    "    for i, feature in enumerate(features_rels):\n",
    "        for r in feature.nonzero()[0]:\n",
    "            for j in features_rels[:, r].nonzero()[0]:\n",
    "                if not i == j:\n",
    "                    purview_purview[i, j] += feature[r]\n",
    "                    purview_purview[j, i] += feature[r]\n",
    "\n",
    "    # renormalizing to have same max as mechanisms interactions\n",
    "    purview_purview = (\n",
    "        adjustment_factor\n",
    "        * np.max(interactions[N:, :N])\n",
    "        * purview_purview\n",
    "        / (np.max(np.sum(purview_purview, axis=1)))\n",
    "    )\n",
    "\n",
    "    interactions[N:, N:] = purview_purview\n",
    "\n",
    "    return interactions/interactions.mean()\n",
    "\n",
    "\n",
    "def construct_mechanism_base(N,base_center,base_floor_height,base_scale):\n",
    "    return [\n",
    "            viz.regular_polygon(\n",
    "                int(comb(N, k)),\n",
    "                center=base_center,\n",
    "                z=((k / N) * base_floor_height),\n",
    "                scale=base_scale,\n",
    "            )\n",
    "        for k in range(1, N + 1)\n",
    "    ]\n"
   ]
  },
  {
   "cell_type": "markdown",
   "metadata": {},
   "source": [
    "# Chapter 3 system"
   ]
  },
  {
   "cell_type": "code",
   "execution_count": 20,
   "metadata": {},
   "outputs": [],
   "source": [
    "with open(r\"ch3_ces.pkl\", \"rb\") as f:\n",
    "    ces = pkl.load(f)\n",
    "    \n",
    "with open(r\"ch3_rels.pkl\", \"rb\") as f:\n",
    "    rels = pkl.load(f)\n",
    "    \n",
    "with open(r\"ch3_subsystem.pkl\", \"rb\") as f:\n",
    "    system = pkl.load(f)"
   ]
  },
  {
   "cell_type": "code",
   "execution_count": 32,
   "metadata": {},
   "outputs": [],
   "source": [
    "def spring_force_simulation(\n",
    "    ces,\n",
    "    rels,\n",
    "    distinction_relation_force_balance=1,\n",
    "    friction_factor=5,\n",
    "    repulsion_factor=1,\n",
    "    spring_factor=1,\n",
    "    T=300,\n",
    "    delta=0.01,\n",
    "    mass=None,\n",
    "    immovable=(),\n",
    "    initial_positions=\"singularity\",\n",
    "    return_path=False,\n",
    "    adjust_force_by_phi=True,\n",
    "):\n",
    "    # Get the spring forces between all terms\n",
    "    spring_constants = get_interactions(\n",
    "        ces, rels, distinction_relation_force_balance, adjust_force_by_phi\n",
    "    )\n",
    "\n",
    "    # initialize positions based on input argument\n",
    "    x, y, z = get_initial_positions(initial_positions)\n",
    "\n",
    "    # simulating the spring force system\n",
    "    path = equilibrate(\n",
    "        spring_constants,\n",
    "        x,\n",
    "        y,\n",
    "        z,\n",
    "        friction_factor=friction_factor,\n",
    "        repulsion_factor=repulsion_factor,\n",
    "        spring_factor=spring_factor,\n",
    "        T=T,\n",
    "        delta=delta,\n",
    "        mass=mass,\n",
    "        immovable=immovable,\n",
    "    )\n",
    "\n",
    "    if return_path:\n",
    "        return path\n",
    "    else:\n",
    "        mech_coords = path[-1, :, : len(ces)]\n",
    "        purv_coords = path[-1, :, len(ces) :]\n",
    "        return mech_coords, purv_coords\n",
    "\n",
    "\n",
    "def get_initial_positions(initial_positions):\n",
    "\n",
    "    if initial_positions == \"singularity\":\n",
    "        x = np.zeros(len(spring_constants))\n",
    "        y = np.zeros(len(spring_constants))\n",
    "        z = np.zeros(len(spring_constants))\n",
    "\n",
    "    elif initial_positions == \"mechanisms inside\":\n",
    "        x, y, z = initialize_positions(\n",
    "            ces, center=(0, 0), z=0, radius=0.1, purview_scale=3, mech_base=False\n",
    "        )\n",
    "\n",
    "    elif initial_positions == \"mechanisms outside\":\n",
    "        x, y, z = initialize_positions(\n",
    "            ces, center=(0, 0), z=0, radius=2, purview_scale=0.9, mech_base=False\n",
    "        )\n",
    "\n",
    "    elif initial_positions == \"mechanism core\":\n",
    "\n",
    "        aux = construct_mechanism_base(len(ces[-1].mechanism), center, 0.1, 0.1)\n",
    "        mechs = [m for mm in aux for m in mm]\n",
    "        purviews = viz.regular_polygon(\n",
    "            2 * len(ces),\n",
    "            center=center,\n",
    "            angle=math.pi / (len(ces)),\n",
    "            z=0,\n",
    "            radius=radius,\n",
    "            scale=purview_scale,\n",
    "        )\n",
    "        xyz = np.array(mechs + purviews)\n",
    "        x, y, z = (xyz[:, 0], xyz[:, 1], xyz[:, 2])\n",
    "    else:\n",
    "        # assuming intial positions are given\n",
    "        x = initial_positions[0, :]\n",
    "        y = initial_positions[1, :]\n",
    "        z = initial_positions[2, :]\n",
    "\n",
    "    return x, y, z"
   ]
  },
  {
   "cell_type": "code",
   "execution_count": 44,
   "metadata": {},
   "outputs": [],
   "source": [
    "path = spring_force_simulation(\n",
    "    ces,\n",
    "    rels,\n",
    "    T=100,\n",
    "    return_path=True,\n",
    "    distinction_relation_force_balance=10,\n",
    "    immovable=range(len(ces)),\n",
    "    initial_positions=\"mechanisms outside\",\n",
    ")"
   ]
  },
  {
   "cell_type": "code",
   "execution_count": 45,
   "metadata": {},
   "outputs": [
    {
     "data": {
      "image/png": "[encoded data removed]",
      "text/plain": [
       "<Figure size 432x288 with 1 Axes>"
      ]
     },
     "metadata": {
      "needs_background": "light"
     },
     "output_type": "display_data"
    }
   ],
   "source": [
    "plt.plot(path[1:,1,:]-path[:-1,1,:]);"
   ]
  },
  {
   "cell_type": "code",
   "execution_count": 47,
   "metadata": {},
   "outputs": [
    {
     "data": {
      "application/vnd.jupyter.widget-view+json": {
       "model_id": "a09241e77c8447428bef8c3596e1afa8",
       "version_major": 2,
       "version_minor": 0
      },
      "text/plain": [
       "HBox(children=(HTML(value='Computing edges'), FloatProgress(value=0.0, max=201.0), HTML(value='')))"
      ]
     },
     "metadata": {},
     "output_type": "display_data"
    },
    {
     "name": "stdout",
     "output_type": "stream",
     "text": [
      "\n"
     ]
    },
    {
     "data": {
      "application/vnd.jupyter.widget-view+json": {
       "model_id": "1b6ff1d4472d43d8bad5664a4264173a",
       "version_major": 2,
       "version_minor": 0
      },
      "text/plain": [
       "HBox(children=(HTML(value='Computing triangles'), FloatProgress(value=0.0, max=677.0), HTML(value='')))"
      ]
     },
     "metadata": {},
     "output_type": "display_data"
    },
    {
     "name": "stdout",
     "output_type": "stream",
     "text": [
      "\n"
     ]
    }
   ],
   "source": [
    "fig = viz.plot_ces_epicycles(system,ces,rels,network_name='ch3_spring_random_static_mechs_small',\n",
    "                             user_mechanism_coords=path[-1, :, : len(ces)],\n",
    "                             user_purview_coords=path[-1, :, len(ces) :],\n",
    "                             link_width_range=(1,3),\n",
    "                             eye_coordinates=(0,0,1),\n",
    "                             mechanism_labels_size=8,\n",
    "                             purview_labels_size=8,\n",
    "                             mechanism_label_position='middle center',\n",
    "                             purview_label_position='middle center',\n",
    "                             show_purview_labels=False,\n",
    "                             save_plot_to_html=False,\n",
    "                             png_name='pngs/ch3/frame1.png',\n",
    "                             showlegend=False,\n",
    "                            show_mechanism_labels=False,\n",
    "                            show_mechanism_state_labels=False,\n",
    ")"
   ]
  },
  {
   "cell_type": "code",
   "execution_count": 28,
   "metadata": {
    "collapsed": true,
    "jupyter": {
     "outputs_hidden": true
    }
   },
   "outputs": [
    {
     "data": {
      "application/vnd.jupyter.widget-view+json": {
       "model_id": "65e1d755eeff4d6db76b8d58973c9dc6",
       "version_major": 2,
       "version_minor": 0
      },
      "text/plain": [
       "HBox(children=(HTML(value='Computing edges'), FloatProgress(value=0.0, max=201.0), HTML(value='')))"
      ]
     },
     "metadata": {},
     "output_type": "display_data"
    },
    {
     "name": "stdout",
     "output_type": "stream",
     "text": [
      "\n"
     ]
    },
    {
     "data": {
      "application/vnd.jupyter.widget-view+json": {
       "model_id": "a8c532ea4e044170a806857501c3ff2f",
       "version_major": 2,
       "version_minor": 0
      },
      "text/plain": [
       "HBox(children=(HTML(value='Computing triangles'), FloatProgress(value=0.0, max=677.0), HTML(value='')))"
      ]
     },
     "metadata": {},
     "output_type": "display_data"
    },
    {
     "name": "stdout",
     "output_type": "stream",
     "text": [
      "\n"
     ]
    },
    {
     "data": {
      "application/vnd.jupyter.widget-view+json": {
       "model_id": "608b05d920674e57b6f451d6ed9582b2",
       "version_major": 2,
       "version_minor": 0
      },
      "text/plain": [
       "HBox(children=(HTML(value='Computing edges'), FloatProgress(value=0.0, max=201.0), HTML(value='')))"
      ]
     },
     "metadata": {},
     "output_type": "display_data"
    },
    {
     "name": "stdout",
     "output_type": "stream",
     "text": [
      "\n"
     ]
    },
    {
     "data": {
      "application/vnd.jupyter.widget-view+json": {
       "model_id": "fd24c3d4c62b4829b5cb2f37a729a81d",
       "version_major": 2,
       "version_minor": 0
      },
      "text/plain": [
       "HBox(children=(HTML(value='Computing triangles'), FloatProgress(value=0.0, max=677.0), HTML(value='')))"
      ]
     },
     "metadata": {},
     "output_type": "display_data"
    },
    {
     "name": "stdout",
     "output_type": "stream",
     "text": [
      "\n"
     ]
    },
    {
     "data": {
      "application/vnd.jupyter.widget-view+json": {
       "model_id": "504a4010ee8b4f79afe90ce65038fdf8",
       "version_major": 2,
       "version_minor": 0
      },
      "text/plain": [
       "HBox(children=(HTML(value='Computing edges'), FloatProgress(value=0.0, max=201.0), HTML(value='')))"
      ]
     },
     "metadata": {},
     "output_type": "display_data"
    },
    {
     "name": "stdout",
     "output_type": "stream",
     "text": [
      "\n"
     ]
    },
    {
     "data": {
      "application/vnd.jupyter.widget-view+json": {
       "model_id": "412ffe83d40243a398970245ec7ea20a",
       "version_major": 2,
       "version_minor": 0
      },
      "text/plain": [
       "HBox(children=(HTML(value='Computing triangles'), FloatProgress(value=0.0, max=677.0), HTML(value='')))"
      ]
     },
     "metadata": {},
     "output_type": "display_data"
    },
    {
     "name": "stdout",
     "output_type": "stream",
     "text": [
      "\n"
     ]
    },
    {
     "data": {
      "application/vnd.jupyter.widget-view+json": {
       "model_id": "ac8370f428d149d09fb8f18262fc0a6e",
       "version_major": 2,
       "version_minor": 0
      },
      "text/plain": [
       "HBox(children=(HTML(value='Computing edges'), FloatProgress(value=0.0, max=201.0), HTML(value='')))"
      ]
     },
     "metadata": {},
     "output_type": "display_data"
    },
    {
     "name": "stdout",
     "output_type": "stream",
     "text": [
      "\n"
     ]
    },
    {
     "data": {
      "application/vnd.jupyter.widget-view+json": {
       "model_id": "669117c71e5d45e086d33c1cc9f2fadb",
       "version_major": 2,
       "version_minor": 0
      },
      "text/plain": [
       "HBox(children=(HTML(value='Computing triangles'), FloatProgress(value=0.0, max=677.0), HTML(value='')))"
      ]
     },
     "metadata": {},
     "output_type": "display_data"
    },
    {
     "name": "stdout",
     "output_type": "stream",
     "text": [
      "\n"
     ]
    },
    {
     "data": {
      "application/vnd.jupyter.widget-view+json": {
       "model_id": "dee41af337ea46c9bb54f52dcacfd66d",
       "version_major": 2,
       "version_minor": 0
      },
      "text/plain": [
       "HBox(children=(HTML(value='Computing edges'), FloatProgress(value=0.0, max=201.0), HTML(value='')))"
      ]
     },
     "metadata": {},
     "output_type": "display_data"
    },
    {
     "name": "stdout",
     "output_type": "stream",
     "text": [
      "\n"
     ]
    },
    {
     "data": {
      "application/vnd.jupyter.widget-view+json": {
       "model_id": "40139a22ef0a434abbc73289984aa818",
       "version_major": 2,
       "version_minor": 0
      },
      "text/plain": [
       "HBox(children=(HTML(value='Computing triangles'), FloatProgress(value=0.0, max=677.0), HTML(value='')))"
      ]
     },
     "metadata": {},
     "output_type": "display_data"
    },
    {
     "name": "stdout",
     "output_type": "stream",
     "text": [
      "\n"
     ]
    },
    {
     "data": {
      "application/vnd.jupyter.widget-view+json": {
       "model_id": "6c9d37485f754577952f23b4a61f00a2",
       "version_major": 2,
       "version_minor": 0
      },
      "text/plain": [
       "HBox(children=(HTML(value='Computing edges'), FloatProgress(value=0.0, max=201.0), HTML(value='')))"
      ]
     },
     "metadata": {},
     "output_type": "display_data"
    },
    {
     "name": "stdout",
     "output_type": "stream",
     "text": [
      "\n"
     ]
    },
    {
     "data": {
      "application/vnd.jupyter.widget-view+json": {
       "model_id": "a249542e16fc43269e7d3ffa2899b320",
       "version_major": 2,
       "version_minor": 0
      },
      "text/plain": [
       "HBox(children=(HTML(value='Computing triangles'), FloatProgress(value=0.0, max=677.0), HTML(value='')))"
      ]
     },
     "metadata": {},
     "output_type": "display_data"
    },
    {
     "name": "stdout",
     "output_type": "stream",
     "text": [
      "\n"
     ]
    },
    {
     "data": {
      "application/vnd.jupyter.widget-view+json": {
       "model_id": "a36f7fcb8a314ee2a66ff4849984ef0e",
       "version_major": 2,
       "version_minor": 0
      },
      "text/plain": [
       "HBox(children=(HTML(value='Computing edges'), FloatProgress(value=0.0, max=201.0), HTML(value='')))"
      ]
     },
     "metadata": {},
     "output_type": "display_data"
    },
    {
     "name": "stdout",
     "output_type": "stream",
     "text": [
      "\n"
     ]
    },
    {
     "data": {
      "application/vnd.jupyter.widget-view+json": {
       "model_id": "5109fbde41bb4bf7a61d01d9f80b59dd",
       "version_major": 2,
       "version_minor": 0
      },
      "text/plain": [
       "HBox(children=(HTML(value='Computing triangles'), FloatProgress(value=0.0, max=677.0), HTML(value='')))"
      ]
     },
     "metadata": {},
     "output_type": "display_data"
    },
    {
     "name": "stdout",
     "output_type": "stream",
     "text": [
      "\n"
     ]
    },
    {
     "data": {
      "application/vnd.jupyter.widget-view+json": {
       "model_id": "06694a4eea5641998385632850feb0a1",
       "version_major": 2,
       "version_minor": 0
      },
      "text/plain": [
       "HBox(children=(HTML(value='Computing edges'), FloatProgress(value=0.0, max=201.0), HTML(value='')))"
      ]
     },
     "metadata": {},
     "output_type": "display_data"
    },
    {
     "name": "stdout",
     "output_type": "stream",
     "text": [
      "\n"
     ]
    },
    {
     "data": {
      "application/vnd.jupyter.widget-view+json": {
       "model_id": "05f9d42c608442a090524d54c419cba6",
       "version_major": 2,
       "version_minor": 0
      },
      "text/plain": [
       "HBox(children=(HTML(value='Computing triangles'), FloatProgress(value=0.0, max=677.0), HTML(value='')))"
      ]
     },
     "metadata": {},
     "output_type": "display_data"
    },
    {
     "name": "stdout",
     "output_type": "stream",
     "text": [
      "\n"
     ]
    },
    {
     "data": {
      "application/vnd.jupyter.widget-view+json": {
       "model_id": "172dff693c6e4aeab23784eb5ce845da",
       "version_major": 2,
       "version_minor": 0
      },
      "text/plain": [
       "HBox(children=(HTML(value='Computing edges'), FloatProgress(value=0.0, max=201.0), HTML(value='')))"
      ]
     },
     "metadata": {},
     "output_type": "display_data"
    },
    {
     "name": "stdout",
     "output_type": "stream",
     "text": [
      "\n"
     ]
    },
    {
     "data": {
      "application/vnd.jupyter.widget-view+json": {
       "model_id": "1cc55af59c6e4154817ec075d7bb90bd",
       "version_major": 2,
       "version_minor": 0
      },
      "text/plain": [
       "HBox(children=(HTML(value='Computing triangles'), FloatProgress(value=0.0, max=677.0), HTML(value='')))"
      ]
     },
     "metadata": {},
     "output_type": "display_data"
    },
    {
     "name": "stdout",
     "output_type": "stream",
     "text": [
      "\n"
     ]
    },
    {
     "data": {
      "application/vnd.jupyter.widget-view+json": {
       "model_id": "b16ab92cee414fb2802c2918b0d07ece",
       "version_major": 2,
       "version_minor": 0
      },
      "text/plain": [
       "HBox(children=(HTML(value='Computing edges'), FloatProgress(value=0.0, max=201.0), HTML(value='')))"
      ]
     },
     "metadata": {},
     "output_type": "display_data"
    },
    {
     "name": "stdout",
     "output_type": "stream",
     "text": [
      "\n"
     ]
    },
    {
     "data": {
      "application/vnd.jupyter.widget-view+json": {
       "model_id": "8283a189b3eb462ebfdf4f4838d2206e",
       "version_major": 2,
       "version_minor": 0
      },
      "text/plain": [
       "HBox(children=(HTML(value='Computing triangles'), FloatProgress(value=0.0, max=677.0), HTML(value='')))"
      ]
     },
     "metadata": {},
     "output_type": "display_data"
    },
    {
     "name": "stdout",
     "output_type": "stream",
     "text": [
      "\n"
     ]
    },
    {
     "data": {
      "application/vnd.jupyter.widget-view+json": {
       "model_id": "38d1325e455d4dfbbef4ba6d9a5b6cdd",
       "version_major": 2,
       "version_minor": 0
      },
      "text/plain": [
       "HBox(children=(HTML(value='Computing edges'), FloatProgress(value=0.0, max=201.0), HTML(value='')))"
      ]
     },
     "metadata": {},
     "output_type": "display_data"
    },
    {
     "name": "stdout",
     "output_type": "stream",
     "text": [
      "\n"
     ]
    },
    {
     "data": {
      "application/vnd.jupyter.widget-view+json": {
       "model_id": "b04fdd45c81c4a11a61fdb4a762651e1",
       "version_major": 2,
       "version_minor": 0
      },
      "text/plain": [
       "HBox(children=(HTML(value='Computing triangles'), FloatProgress(value=0.0, max=677.0), HTML(value='')))"
      ]
     },
     "metadata": {},
     "output_type": "display_data"
    },
    {
     "name": "stdout",
     "output_type": "stream",
     "text": [
      "\n"
     ]
    },
    {
     "data": {
      "application/vnd.jupyter.widget-view+json": {
       "model_id": "070e3de75c454047a58d3454b4dba994",
       "version_major": 2,
       "version_minor": 0
      },
      "text/plain": [
       "HBox(children=(HTML(value='Computing edges'), FloatProgress(value=0.0, max=201.0), HTML(value='')))"
      ]
     },
     "metadata": {},
     "output_type": "display_data"
    },
    {
     "name": "stdout",
     "output_type": "stream",
     "text": [
      "\n"
     ]
    },
    {
     "data": {
      "application/vnd.jupyter.widget-view+json": {
       "model_id": "8becbf6d6da549ccb6449aeefc07c048",
       "version_major": 2,
       "version_minor": 0
      },
      "text/plain": [
       "HBox(children=(HTML(value='Computing triangles'), FloatProgress(value=0.0, max=677.0), HTML(value='')))"
      ]
     },
     "metadata": {},
     "output_type": "display_data"
    },
    {
     "name": "stdout",
     "output_type": "stream",
     "text": [
      "\n"
     ]
    },
    {
     "data": {
      "application/vnd.jupyter.widget-view+json": {
       "model_id": "fc3e331ecdd14e00b29d918b0b7e8df4",
       "version_major": 2,
       "version_minor": 0
      },
      "text/plain": [
       "HBox(children=(HTML(value='Computing edges'), FloatProgress(value=0.0, max=201.0), HTML(value='')))"
      ]
     },
     "metadata": {},
     "output_type": "display_data"
    },
    {
     "name": "stdout",
     "output_type": "stream",
     "text": [
      "\n"
     ]
    },
    {
     "data": {
      "application/vnd.jupyter.widget-view+json": {
       "model_id": "66dcd1d1a4df4aa5b4d5664b58603175",
       "version_major": 2,
       "version_minor": 0
      },
      "text/plain": [
       "HBox(children=(HTML(value='Computing triangles'), FloatProgress(value=0.0, max=677.0), HTML(value='')))"
      ]
     },
     "metadata": {},
     "output_type": "display_data"
    },
    {
     "name": "stdout",
     "output_type": "stream",
     "text": [
      "\n"
     ]
    },
    {
     "data": {
      "application/vnd.jupyter.widget-view+json": {
       "model_id": "be2f11230d8249feafbfdf20f2c8ef57",
       "version_major": 2,
       "version_minor": 0
      },
      "text/plain": [
       "HBox(children=(HTML(value='Computing edges'), FloatProgress(value=0.0, max=201.0), HTML(value='')))"
      ]
     },
     "metadata": {},
     "output_type": "display_data"
    },
    {
     "name": "stdout",
     "output_type": "stream",
     "text": [
      "\n"
     ]
    },
    {
     "data": {
      "application/vnd.jupyter.widget-view+json": {
       "model_id": "bf4bdacea3504808836f19cf15e4cec8",
       "version_major": 2,
       "version_minor": 0
      },
      "text/plain": [
       "HBox(children=(HTML(value='Computing triangles'), FloatProgress(value=0.0, max=677.0), HTML(value='')))"
      ]
     },
     "metadata": {},
     "output_type": "display_data"
    },
    {
     "name": "stdout",
     "output_type": "stream",
     "text": [
      "\n"
     ]
    },
    {
     "data": {
      "application/vnd.jupyter.widget-view+json": {
       "model_id": "e61576cd68d24d1c94fa259298c9290a",
       "version_major": 2,
       "version_minor": 0
      },
      "text/plain": [
       "HBox(children=(HTML(value='Computing edges'), FloatProgress(value=0.0, max=201.0), HTML(value='')))"
      ]
     },
     "metadata": {},
     "output_type": "display_data"
    },
    {
     "name": "stdout",
     "output_type": "stream",
     "text": [
      "\n"
     ]
    },
    {
     "data": {
      "application/vnd.jupyter.widget-view+json": {
       "model_id": "fe532b90fa894180b18e8544a69ac126",
       "version_major": 2,
       "version_minor": 0
      },
      "text/plain": [
       "HBox(children=(HTML(value='Computing triangles'), FloatProgress(value=0.0, max=677.0), HTML(value='')))"
      ]
     },
     "metadata": {},
     "output_type": "display_data"
    },
    {
     "name": "stdout",
     "output_type": "stream",
     "text": [
      "\n"
     ]
    },
    {
     "data": {
      "application/vnd.jupyter.widget-view+json": {
       "model_id": "4333323d65704df89cea0696c1f3503c",
       "version_major": 2,
       "version_minor": 0
      },
      "text/plain": [
       "HBox(children=(HTML(value='Computing edges'), FloatProgress(value=0.0, max=201.0), HTML(value='')))"
      ]
     },
     "metadata": {},
     "output_type": "display_data"
    },
    {
     "name": "stdout",
     "output_type": "stream",
     "text": [
      "\n"
     ]
    },
    {
     "data": {
      "application/vnd.jupyter.widget-view+json": {
       "model_id": "894b38697d834e048673a83107f86eae",
       "version_major": 2,
       "version_minor": 0
      },
      "text/plain": [
       "HBox(children=(HTML(value='Computing triangles'), FloatProgress(value=0.0, max=677.0), HTML(value='')))"
      ]
     },
     "metadata": {},
     "output_type": "display_data"
    },
    {
     "name": "stdout",
     "output_type": "stream",
     "text": [
      "\n"
     ]
    },
    {
     "data": {
      "application/vnd.jupyter.widget-view+json": {
       "model_id": "7343b05f844f4d6ba4eeaea296752e5c",
       "version_major": 2,
       "version_minor": 0
      },
      "text/plain": [
       "HBox(children=(HTML(value='Computing edges'), FloatProgress(value=0.0, max=201.0), HTML(value='')))"
      ]
     },
     "metadata": {},
     "output_type": "display_data"
    },
    {
     "name": "stdout",
     "output_type": "stream",
     "text": [
      "\n"
     ]
    },
    {
     "data": {
      "application/vnd.jupyter.widget-view+json": {
       "model_id": "f7f57cfed3ce4593bbf76fcc37065469",
       "version_major": 2,
       "version_minor": 0
      },
      "text/plain": [
       "HBox(children=(HTML(value='Computing triangles'), FloatProgress(value=0.0, max=677.0), HTML(value='')))"
      ]
     },
     "metadata": {},
     "output_type": "display_data"
    },
    {
     "name": "stdout",
     "output_type": "stream",
     "text": [
      "\n"
     ]
    },
    {
     "data": {
      "application/vnd.jupyter.widget-view+json": {
       "model_id": "eb373c5c7c1d41da8aff343b4196c372",
       "version_major": 2,
       "version_minor": 0
      },
      "text/plain": [
       "HBox(children=(HTML(value='Computing edges'), FloatProgress(value=0.0, max=201.0), HTML(value='')))"
      ]
     },
     "metadata": {},
     "output_type": "display_data"
    },
    {
     "name": "stdout",
     "output_type": "stream",
     "text": [
      "\n"
     ]
    },
    {
     "data": {
      "application/vnd.jupyter.widget-view+json": {
       "model_id": "b766ba304a564534a70cf8c3ae1eab4c",
       "version_major": 2,
       "version_minor": 0
      },
      "text/plain": [
       "HBox(children=(HTML(value='Computing triangles'), FloatProgress(value=0.0, max=677.0), HTML(value='')))"
      ]
     },
     "metadata": {},
     "output_type": "display_data"
    },
    {
     "name": "stdout",
     "output_type": "stream",
     "text": [
      "\n"
     ]
    },
    {
     "data": {
      "application/vnd.jupyter.widget-view+json": {
       "model_id": "5eeb25e0c9b9464987079f2ba1e484b3",
       "version_major": 2,
       "version_minor": 0
      },
      "text/plain": [
       "HBox(children=(HTML(value='Computing edges'), FloatProgress(value=0.0, max=201.0), HTML(value='')))"
      ]
     },
     "metadata": {},
     "output_type": "display_data"
    },
    {
     "name": "stdout",
     "output_type": "stream",
     "text": [
      "\n"
     ]
    },
    {
     "data": {
      "application/vnd.jupyter.widget-view+json": {
       "model_id": "e65c5bd5e35a4990bca64853a1593a62",
       "version_major": 2,
       "version_minor": 0
      },
      "text/plain": [
       "HBox(children=(HTML(value='Computing triangles'), FloatProgress(value=0.0, max=677.0), HTML(value='')))"
      ]
     },
     "metadata": {},
     "output_type": "display_data"
    },
    {
     "name": "stdout",
     "output_type": "stream",
     "text": [
      "\n"
     ]
    },
    {
     "data": {
      "application/vnd.jupyter.widget-view+json": {
       "model_id": "987fa28a2f934ca4a8733189e1dda751",
       "version_major": 2,
       "version_minor": 0
      },
      "text/plain": [
       "HBox(children=(HTML(value='Computing edges'), FloatProgress(value=0.0, max=201.0), HTML(value='')))"
      ]
     },
     "metadata": {},
     "output_type": "display_data"
    },
    {
     "name": "stdout",
     "output_type": "stream",
     "text": [
      "\n"
     ]
    },
    {
     "data": {
      "application/vnd.jupyter.widget-view+json": {
       "model_id": "9b1bece518b1495883ea416b4af590b4",
       "version_major": 2,
       "version_minor": 0
      },
      "text/plain": [
       "HBox(children=(HTML(value='Computing triangles'), FloatProgress(value=0.0, max=677.0), HTML(value='')))"
      ]
     },
     "metadata": {},
     "output_type": "display_data"
    },
    {
     "name": "stdout",
     "output_type": "stream",
     "text": [
      "\n"
     ]
    },
    {
     "data": {
      "application/vnd.jupyter.widget-view+json": {
       "model_id": "3d9192808af342598cd02111e104e648",
       "version_major": 2,
       "version_minor": 0
      },
      "text/plain": [
       "HBox(children=(HTML(value='Computing edges'), FloatProgress(value=0.0, max=201.0), HTML(value='')))"
      ]
     },
     "metadata": {},
     "output_type": "display_data"
    },
    {
     "name": "stdout",
     "output_type": "stream",
     "text": [
      "\n"
     ]
    },
    {
     "data": {
      "application/vnd.jupyter.widget-view+json": {
       "model_id": "bc6b29e0900b4321842605caa3c965f9",
       "version_major": 2,
       "version_minor": 0
      },
      "text/plain": [
       "HBox(children=(HTML(value='Computing triangles'), FloatProgress(value=0.0, max=677.0), HTML(value='')))"
      ]
     },
     "metadata": {},
     "output_type": "display_data"
    },
    {
     "name": "stdout",
     "output_type": "stream",
     "text": [
      "\n"
     ]
    },
    {
     "data": {
      "application/vnd.jupyter.widget-view+json": {
       "model_id": "831c782259f045c49cbb56657261adb7",
       "version_major": 2,
       "version_minor": 0
      },
      "text/plain": [
       "HBox(children=(HTML(value='Computing edges'), FloatProgress(value=0.0, max=201.0), HTML(value='')))"
      ]
     },
     "metadata": {},
     "output_type": "display_data"
    },
    {
     "name": "stdout",
     "output_type": "stream",
     "text": [
      "\n"
     ]
    },
    {
     "data": {
      "application/vnd.jupyter.widget-view+json": {
       "model_id": "849a6012003a4696ae0a388e3c874fe0",
       "version_major": 2,
       "version_minor": 0
      },
      "text/plain": [
       "HBox(children=(HTML(value='Computing triangles'), FloatProgress(value=0.0, max=677.0), HTML(value='')))"
      ]
     },
     "metadata": {},
     "output_type": "display_data"
    },
    {
     "name": "stdout",
     "output_type": "stream",
     "text": [
      "\n"
     ]
    },
    {
     "data": {
      "application/vnd.jupyter.widget-view+json": {
       "model_id": "cb1615927985426fa3a3404261612902",
       "version_major": 2,
       "version_minor": 0
      },
      "text/plain": [
       "HBox(children=(HTML(value='Computing edges'), FloatProgress(value=0.0, max=201.0), HTML(value='')))"
      ]
     },
     "metadata": {},
     "output_type": "display_data"
    },
    {
     "name": "stdout",
     "output_type": "stream",
     "text": [
      "\n"
     ]
    },
    {
     "data": {
      "application/vnd.jupyter.widget-view+json": {
       "model_id": "ff29a51274144dc493f595da4e35d6e8",
       "version_major": 2,
       "version_minor": 0
      },
      "text/plain": [
       "HBox(children=(HTML(value='Computing triangles'), FloatProgress(value=0.0, max=677.0), HTML(value='')))"
      ]
     },
     "metadata": {},
     "output_type": "display_data"
    },
    {
     "name": "stdout",
     "output_type": "stream",
     "text": [
      "\n"
     ]
    },
    {
     "data": {
      "application/vnd.jupyter.widget-view+json": {
       "model_id": "677e66315bae4dce8fd1c7e52c743df3",
       "version_major": 2,
       "version_minor": 0
      },
      "text/plain": [
       "HBox(children=(HTML(value='Computing edges'), FloatProgress(value=0.0, max=201.0), HTML(value='')))"
      ]
     },
     "metadata": {},
     "output_type": "display_data"
    },
    {
     "name": "stdout",
     "output_type": "stream",
     "text": [
      "\n"
     ]
    },
    {
     "data": {
      "application/vnd.jupyter.widget-view+json": {
       "model_id": "8e819853ee194fadabc1ded578d8d471",
       "version_major": 2,
       "version_minor": 0
      },
      "text/plain": [
       "HBox(children=(HTML(value='Computing triangles'), FloatProgress(value=0.0, max=677.0), HTML(value='')))"
      ]
     },
     "metadata": {},
     "output_type": "display_data"
    },
    {
     "name": "stdout",
     "output_type": "stream",
     "text": [
      "\n"
     ]
    },
    {
     "data": {
      "application/vnd.jupyter.widget-view+json": {
       "model_id": "951bb571b29e49ae95940ef8e9913f22",
       "version_major": 2,
       "version_minor": 0
      },
      "text/plain": [
       "HBox(children=(HTML(value='Computing edges'), FloatProgress(value=0.0, max=201.0), HTML(value='')))"
      ]
     },
     "metadata": {},
     "output_type": "display_data"
    },
    {
     "name": "stdout",
     "output_type": "stream",
     "text": [
      "\n"
     ]
    },
    {
     "data": {
      "application/vnd.jupyter.widget-view+json": {
       "model_id": "ada91f1da3444a288ecabf078e70c30b",
       "version_major": 2,
       "version_minor": 0
      },
      "text/plain": [
       "HBox(children=(HTML(value='Computing triangles'), FloatProgress(value=0.0, max=677.0), HTML(value='')))"
      ]
     },
     "metadata": {},
     "output_type": "display_data"
    },
    {
     "name": "stdout",
     "output_type": "stream",
     "text": [
      "\n"
     ]
    },
    {
     "data": {
      "application/vnd.jupyter.widget-view+json": {
       "model_id": "7314b5079ade4914980043fbf9be4a63",
       "version_major": 2,
       "version_minor": 0
      },
      "text/plain": [
       "HBox(children=(HTML(value='Computing edges'), FloatProgress(value=0.0, max=201.0), HTML(value='')))"
      ]
     },
     "metadata": {},
     "output_type": "display_data"
    },
    {
     "name": "stdout",
     "output_type": "stream",
     "text": [
      "\n"
     ]
    },
    {
     "data": {
      "application/vnd.jupyter.widget-view+json": {
       "model_id": "111b3eabbcec446495dbd762dd4cfd60",
       "version_major": 2,
       "version_minor": 0
      },
      "text/plain": [
       "HBox(children=(HTML(value='Computing triangles'), FloatProgress(value=0.0, max=677.0), HTML(value='')))"
      ]
     },
     "metadata": {},
     "output_type": "display_data"
    },
    {
     "name": "stdout",
     "output_type": "stream",
     "text": [
      "\n"
     ]
    },
    {
     "data": {
      "application/vnd.jupyter.widget-view+json": {
       "model_id": "74f42ee29e32419796c601b07f2bddaf",
       "version_major": 2,
       "version_minor": 0
      },
      "text/plain": [
       "HBox(children=(HTML(value='Computing edges'), FloatProgress(value=0.0, max=201.0), HTML(value='')))"
      ]
     },
     "metadata": {},
     "output_type": "display_data"
    },
    {
     "name": "stdout",
     "output_type": "stream",
     "text": [
      "\n"
     ]
    },
    {
     "data": {
      "application/vnd.jupyter.widget-view+json": {
       "model_id": "a0c628dd0f0f42c38b78fd808efa6f07",
       "version_major": 2,
       "version_minor": 0
      },
      "text/plain": [
       "HBox(children=(HTML(value='Computing triangles'), FloatProgress(value=0.0, max=677.0), HTML(value='')))"
      ]
     },
     "metadata": {},
     "output_type": "display_data"
    },
    {
     "name": "stdout",
     "output_type": "stream",
     "text": [
      "\n"
     ]
    },
    {
     "data": {
      "application/vnd.jupyter.widget-view+json": {
       "model_id": "73bc9a1f5b474a7faeecce15fced2a5c",
       "version_major": 2,
       "version_minor": 0
      },
      "text/plain": [
       "HBox(children=(HTML(value='Computing edges'), FloatProgress(value=0.0, max=201.0), HTML(value='')))"
      ]
     },
     "metadata": {},
     "output_type": "display_data"
    },
    {
     "name": "stdout",
     "output_type": "stream",
     "text": [
      "\n"
     ]
    },
    {
     "data": {
      "application/vnd.jupyter.widget-view+json": {
       "model_id": "585bf7a516e744fd8a574486dc028e3c",
       "version_major": 2,
       "version_minor": 0
      },
      "text/plain": [
       "HBox(children=(HTML(value='Computing triangles'), FloatProgress(value=0.0, max=677.0), HTML(value='')))"
      ]
     },
     "metadata": {},
     "output_type": "display_data"
    },
    {
     "name": "stdout",
     "output_type": "stream",
     "text": [
      "\n"
     ]
    },
    {
     "data": {
      "application/vnd.jupyter.widget-view+json": {
       "model_id": "cee59f37638b4990844c70bd1c83a38a",
       "version_major": 2,
       "version_minor": 0
      },
      "text/plain": [
       "HBox(children=(HTML(value='Computing edges'), FloatProgress(value=0.0, max=201.0), HTML(value='')))"
      ]
     },
     "metadata": {},
     "output_type": "display_data"
    },
    {
     "name": "stdout",
     "output_type": "stream",
     "text": [
      "\n"
     ]
    },
    {
     "data": {
      "application/vnd.jupyter.widget-view+json": {
       "model_id": "70dad68fe3ee4c9fa675b0a5c042b306",
       "version_major": 2,
       "version_minor": 0
      },
      "text/plain": [
       "HBox(children=(HTML(value='Computing triangles'), FloatProgress(value=0.0, max=677.0), HTML(value='')))"
      ]
     },
     "metadata": {},
     "output_type": "display_data"
    },
    {
     "name": "stdout",
     "output_type": "stream",
     "text": [
      "\n"
     ]
    },
    {
     "data": {
      "application/vnd.jupyter.widget-view+json": {
       "model_id": "ddb09b5e10254b00a368d02f04e610cb",
       "version_major": 2,
       "version_minor": 0
      },
      "text/plain": [
       "HBox(children=(HTML(value='Computing edges'), FloatProgress(value=0.0, max=201.0), HTML(value='')))"
      ]
     },
     "metadata": {},
     "output_type": "display_data"
    },
    {
     "name": "stdout",
     "output_type": "stream",
     "text": [
      "\n"
     ]
    },
    {
     "data": {
      "application/vnd.jupyter.widget-view+json": {
       "model_id": "4968d1f9034c49b4a09da944a163062c",
       "version_major": 2,
       "version_minor": 0
      },
      "text/plain": [
       "HBox(children=(HTML(value='Computing triangles'), FloatProgress(value=0.0, max=677.0), HTML(value='')))"
      ]
     },
     "metadata": {},
     "output_type": "display_data"
    },
    {
     "name": "stdout",
     "output_type": "stream",
     "text": [
      "\n"
     ]
    },
    {
     "data": {
      "application/vnd.jupyter.widget-view+json": {
       "model_id": "8e5234529a9648a4905ac91aa9ffa685",
       "version_major": 2,
       "version_minor": 0
      },
      "text/plain": [
       "HBox(children=(HTML(value='Computing edges'), FloatProgress(value=0.0, max=201.0), HTML(value='')))"
      ]
     },
     "metadata": {},
     "output_type": "display_data"
    },
    {
     "name": "stdout",
     "output_type": "stream",
     "text": [
      "\n"
     ]
    },
    {
     "data": {
      "application/vnd.jupyter.widget-view+json": {
       "model_id": "3e048b6e210f486e89c40e0409dd25be",
       "version_major": 2,
       "version_minor": 0
      },
      "text/plain": [
       "HBox(children=(HTML(value='Computing triangles'), FloatProgress(value=0.0, max=677.0), HTML(value='')))"
      ]
     },
     "metadata": {},
     "output_type": "display_data"
    },
    {
     "name": "stdout",
     "output_type": "stream",
     "text": [
      "\n"
     ]
    },
    {
     "data": {
      "application/vnd.jupyter.widget-view+json": {
       "model_id": "9fe48a66a1784b3d8b24309c6e2c0321",
       "version_major": 2,
       "version_minor": 0
      },
      "text/plain": [
       "HBox(children=(HTML(value='Computing edges'), FloatProgress(value=0.0, max=201.0), HTML(value='')))"
      ]
     },
     "metadata": {},
     "output_type": "display_data"
    },
    {
     "name": "stdout",
     "output_type": "stream",
     "text": [
      "\n"
     ]
    },
    {
     "data": {
      "application/vnd.jupyter.widget-view+json": {
       "model_id": "82469089c21e4789bad2d9492933edb7",
       "version_major": 2,
       "version_minor": 0
      },
      "text/plain": [
       "HBox(children=(HTML(value='Computing triangles'), FloatProgress(value=0.0, max=677.0), HTML(value='')))"
      ]
     },
     "metadata": {},
     "output_type": "display_data"
    },
    {
     "name": "stdout",
     "output_type": "stream",
     "text": [
      "\n"
     ]
    },
    {
     "data": {
      "application/vnd.jupyter.widget-view+json": {
       "model_id": "8bda8384b2d148b78cb630adbf2c89c6",
       "version_major": 2,
       "version_minor": 0
      },
      "text/plain": [
       "HBox(children=(HTML(value='Computing edges'), FloatProgress(value=0.0, max=201.0), HTML(value='')))"
      ]
     },
     "metadata": {},
     "output_type": "display_data"
    },
    {
     "name": "stdout",
     "output_type": "stream",
     "text": [
      "\n"
     ]
    },
    {
     "data": {
      "application/vnd.jupyter.widget-view+json": {
       "model_id": "9715732c9bf54136a0652b56af2de4ce",
       "version_major": 2,
       "version_minor": 0
      },
      "text/plain": [
       "HBox(children=(HTML(value='Computing triangles'), FloatProgress(value=0.0, max=677.0), HTML(value='')))"
      ]
     },
     "metadata": {},
     "output_type": "display_data"
    },
    {
     "name": "stdout",
     "output_type": "stream",
     "text": [
      "\n"
     ]
    },
    {
     "data": {
      "application/vnd.jupyter.widget-view+json": {
       "model_id": "6fb502536a4f486888431df74e684208",
       "version_major": 2,
       "version_minor": 0
      },
      "text/plain": [
       "HBox(children=(HTML(value='Computing edges'), FloatProgress(value=0.0, max=201.0), HTML(value='')))"
      ]
     },
     "metadata": {},
     "output_type": "display_data"
    },
    {
     "name": "stdout",
     "output_type": "stream",
     "text": [
      "\n"
     ]
    },
    {
     "data": {
      "application/vnd.jupyter.widget-view+json": {
       "model_id": "ede7e5f2375e46cabab13a4fb79f2536",
       "version_major": 2,
       "version_minor": 0
      },
      "text/plain": [
       "HBox(children=(HTML(value='Computing triangles'), FloatProgress(value=0.0, max=677.0), HTML(value='')))"
      ]
     },
     "metadata": {},
     "output_type": "display_data"
    },
    {
     "name": "stdout",
     "output_type": "stream",
     "text": [
      "\n"
     ]
    },
    {
     "data": {
      "application/vnd.jupyter.widget-view+json": {
       "model_id": "15c3254164f841eb80807ea6ae3669b3",
       "version_major": 2,
       "version_minor": 0
      },
      "text/plain": [
       "HBox(children=(HTML(value='Computing edges'), FloatProgress(value=0.0, max=201.0), HTML(value='')))"
      ]
     },
     "metadata": {},
     "output_type": "display_data"
    },
    {
     "name": "stdout",
     "output_type": "stream",
     "text": [
      "\n"
     ]
    },
    {
     "data": {
      "application/vnd.jupyter.widget-view+json": {
       "model_id": "1eac43f761344996976705c2f537ba3a",
       "version_major": 2,
       "version_minor": 0
      },
      "text/plain": [
       "HBox(children=(HTML(value='Computing triangles'), FloatProgress(value=0.0, max=677.0), HTML(value='')))"
      ]
     },
     "metadata": {},
     "output_type": "display_data"
    },
    {
     "name": "stdout",
     "output_type": "stream",
     "text": [
      "\n"
     ]
    },
    {
     "data": {
      "application/vnd.jupyter.widget-view+json": {
       "model_id": "2f5a3457fbac4429a683c0d88c7eb9a1",
       "version_major": 2,
       "version_minor": 0
      },
      "text/plain": [
       "HBox(children=(HTML(value='Computing edges'), FloatProgress(value=0.0, max=201.0), HTML(value='')))"
      ]
     },
     "metadata": {},
     "output_type": "display_data"
    },
    {
     "name": "stdout",
     "output_type": "stream",
     "text": [
      "\n"
     ]
    },
    {
     "data": {
      "application/vnd.jupyter.widget-view+json": {
       "model_id": "42d174ada2384723b9a5009780be5025",
       "version_major": 2,
       "version_minor": 0
      },
      "text/plain": [
       "HBox(children=(HTML(value='Computing triangles'), FloatProgress(value=0.0, max=677.0), HTML(value='')))"
      ]
     },
     "metadata": {},
     "output_type": "display_data"
    },
    {
     "name": "stdout",
     "output_type": "stream",
     "text": [
      "\n"
     ]
    },
    {
     "data": {
      "application/vnd.jupyter.widget-view+json": {
       "model_id": "c0b04a14cfe04d5ebd05d27addd057ad",
       "version_major": 2,
       "version_minor": 0
      },
      "text/plain": [
       "HBox(children=(HTML(value='Computing edges'), FloatProgress(value=0.0, max=201.0), HTML(value='')))"
      ]
     },
     "metadata": {},
     "output_type": "display_data"
    },
    {
     "name": "stdout",
     "output_type": "stream",
     "text": [
      "\n"
     ]
    },
    {
     "data": {
      "application/vnd.jupyter.widget-view+json": {
       "model_id": "6c441ce5f7144b01936a26150d6dc22a",
       "version_major": 2,
       "version_minor": 0
      },
      "text/plain": [
       "HBox(children=(HTML(value='Computing triangles'), FloatProgress(value=0.0, max=677.0), HTML(value='')))"
      ]
     },
     "metadata": {},
     "output_type": "display_data"
    },
    {
     "name": "stdout",
     "output_type": "stream",
     "text": [
      "\n"
     ]
    },
    {
     "data": {
      "application/vnd.jupyter.widget-view+json": {
       "model_id": "fe0846090225458abbb23fbadf903d77",
       "version_major": 2,
       "version_minor": 0
      },
      "text/plain": [
       "HBox(children=(HTML(value='Computing edges'), FloatProgress(value=0.0, max=201.0), HTML(value='')))"
      ]
     },
     "metadata": {},
     "output_type": "display_data"
    },
    {
     "name": "stdout",
     "output_type": "stream",
     "text": [
      "\n"
     ]
    },
    {
     "data": {
      "application/vnd.jupyter.widget-view+json": {
       "model_id": "8a6f1949994e4f46a73f2fbcd6f5ef08",
       "version_major": 2,
       "version_minor": 0
      },
      "text/plain": [
       "HBox(children=(HTML(value='Computing triangles'), FloatProgress(value=0.0, max=677.0), HTML(value='')))"
      ]
     },
     "metadata": {},
     "output_type": "display_data"
    },
    {
     "name": "stdout",
     "output_type": "stream",
     "text": [
      "\n"
     ]
    },
    {
     "data": {
      "application/vnd.jupyter.widget-view+json": {
       "model_id": "7b940b870f284b6690f093768e025f86",
       "version_major": 2,
       "version_minor": 0
      },
      "text/plain": [
       "HBox(children=(HTML(value='Computing edges'), FloatProgress(value=0.0, max=201.0), HTML(value='')))"
      ]
     },
     "metadata": {},
     "output_type": "display_data"
    },
    {
     "name": "stdout",
     "output_type": "stream",
     "text": [
      "\n"
     ]
    },
    {
     "data": {
      "application/vnd.jupyter.widget-view+json": {
       "model_id": "3e0b45b2692747a9bb59a6d9904f2d96",
       "version_major": 2,
       "version_minor": 0
      },
      "text/plain": [
       "HBox(children=(HTML(value='Computing triangles'), FloatProgress(value=0.0, max=677.0), HTML(value='')))"
      ]
     },
     "metadata": {},
     "output_type": "display_data"
    },
    {
     "name": "stdout",
     "output_type": "stream",
     "text": [
      "\n"
     ]
    },
    {
     "data": {
      "application/vnd.jupyter.widget-view+json": {
       "model_id": "aba464928f974024bff849563f2e164d",
       "version_major": 2,
       "version_minor": 0
      },
      "text/plain": [
       "HBox(children=(HTML(value='Computing edges'), FloatProgress(value=0.0, max=201.0), HTML(value='')))"
      ]
     },
     "metadata": {},
     "output_type": "display_data"
    },
    {
     "name": "stdout",
     "output_type": "stream",
     "text": [
      "\n"
     ]
    },
    {
     "data": {
      "application/vnd.jupyter.widget-view+json": {
       "model_id": "6f5f1e3317c8498c9758c32dedeab3e7",
       "version_major": 2,
       "version_minor": 0
      },
      "text/plain": [
       "HBox(children=(HTML(value='Computing triangles'), FloatProgress(value=0.0, max=677.0), HTML(value='')))"
      ]
     },
     "metadata": {},
     "output_type": "display_data"
    },
    {
     "name": "stdout",
     "output_type": "stream",
     "text": [
      "\n"
     ]
    },
    {
     "data": {
      "application/vnd.jupyter.widget-view+json": {
       "model_id": "b1b7cf2a5f1b406d827050e20a11a575",
       "version_major": 2,
       "version_minor": 0
      },
      "text/plain": [
       "HBox(children=(HTML(value='Computing edges'), FloatProgress(value=0.0, max=201.0), HTML(value='')))"
      ]
     },
     "metadata": {},
     "output_type": "display_data"
    },
    {
     "name": "stdout",
     "output_type": "stream",
     "text": [
      "\n"
     ]
    },
    {
     "data": {
      "application/vnd.jupyter.widget-view+json": {
       "model_id": "1d318e7a4c2a4db6990f2321c688913e",
       "version_major": 2,
       "version_minor": 0
      },
      "text/plain": [
       "HBox(children=(HTML(value='Computing triangles'), FloatProgress(value=0.0, max=677.0), HTML(value='')))"
      ]
     },
     "metadata": {},
     "output_type": "display_data"
    },
    {
     "name": "stdout",
     "output_type": "stream",
     "text": [
      "\n"
     ]
    },
    {
     "data": {
      "application/vnd.jupyter.widget-view+json": {
       "model_id": "af41b1eaf57541528ae6daf276fd0f71",
       "version_major": 2,
       "version_minor": 0
      },
      "text/plain": [
       "HBox(children=(HTML(value='Computing edges'), FloatProgress(value=0.0, max=201.0), HTML(value='')))"
      ]
     },
     "metadata": {},
     "output_type": "display_data"
    },
    {
     "name": "stdout",
     "output_type": "stream",
     "text": [
      "\n"
     ]
    },
    {
     "data": {
      "application/vnd.jupyter.widget-view+json": {
       "model_id": "6f50cf11139e458caf9f873bde57fbfd",
       "version_major": 2,
       "version_minor": 0
      },
      "text/plain": [
       "HBox(children=(HTML(value='Computing triangles'), FloatProgress(value=0.0, max=677.0), HTML(value='')))"
      ]
     },
     "metadata": {},
     "output_type": "display_data"
    },
    {
     "name": "stdout",
     "output_type": "stream",
     "text": [
      "\n"
     ]
    },
    {
     "data": {
      "application/vnd.jupyter.widget-view+json": {
       "model_id": "e03df2383d7a46b694930b7d925da738",
       "version_major": 2,
       "version_minor": 0
      },
      "text/plain": [
       "HBox(children=(HTML(value='Computing edges'), FloatProgress(value=0.0, max=201.0), HTML(value='')))"
      ]
     },
     "metadata": {},
     "output_type": "display_data"
    },
    {
     "name": "stdout",
     "output_type": "stream",
     "text": [
      "\n"
     ]
    },
    {
     "data": {
      "application/vnd.jupyter.widget-view+json": {
       "model_id": "90ac15a7bcdd4d069e4f4851a2c95a44",
       "version_major": 2,
       "version_minor": 0
      },
      "text/plain": [
       "HBox(children=(HTML(value='Computing triangles'), FloatProgress(value=0.0, max=677.0), HTML(value='')))"
      ]
     },
     "metadata": {},
     "output_type": "display_data"
    },
    {
     "name": "stdout",
     "output_type": "stream",
     "text": [
      "\n"
     ]
    },
    {
     "data": {
      "application/vnd.jupyter.widget-view+json": {
       "model_id": "795980afa54f4b3283b678017da585c3",
       "version_major": 2,
       "version_minor": 0
      },
      "text/plain": [
       "HBox(children=(HTML(value='Computing edges'), FloatProgress(value=0.0, max=201.0), HTML(value='')))"
      ]
     },
     "metadata": {},
     "output_type": "display_data"
    },
    {
     "name": "stdout",
     "output_type": "stream",
     "text": [
      "\n"
     ]
    },
    {
     "data": {
      "application/vnd.jupyter.widget-view+json": {
       "model_id": "02e021fbcb874e6ea70a2ddf5a7c337d",
       "version_major": 2,
       "version_minor": 0
      },
      "text/plain": [
       "HBox(children=(HTML(value='Computing triangles'), FloatProgress(value=0.0, max=677.0), HTML(value='')))"
      ]
     },
     "metadata": {},
     "output_type": "display_data"
    },
    {
     "name": "stdout",
     "output_type": "stream",
     "text": [
      "\n"
     ]
    },
    {
     "data": {
      "application/vnd.jupyter.widget-view+json": {
       "model_id": "7e2dbe6c230e4b9a947952ec1bf678df",
       "version_major": 2,
       "version_minor": 0
      },
      "text/plain": [
       "HBox(children=(HTML(value='Computing edges'), FloatProgress(value=0.0, max=201.0), HTML(value='')))"
      ]
     },
     "metadata": {},
     "output_type": "display_data"
    },
    {
     "name": "stdout",
     "output_type": "stream",
     "text": [
      "\n"
     ]
    },
    {
     "data": {
      "application/vnd.jupyter.widget-view+json": {
       "model_id": "abbd41bd416f4eca9bb812797650cfd9",
       "version_major": 2,
       "version_minor": 0
      },
      "text/plain": [
       "HBox(children=(HTML(value='Computing triangles'), FloatProgress(value=0.0, max=677.0), HTML(value='')))"
      ]
     },
     "metadata": {},
     "output_type": "display_data"
    },
    {
     "name": "stdout",
     "output_type": "stream",
     "text": [
      "\n"
     ]
    },
    {
     "data": {
      "application/vnd.jupyter.widget-view+json": {
       "model_id": "faa82e66437c4804990071824e55f06c",
       "version_major": 2,
       "version_minor": 0
      },
      "text/plain": [
       "HBox(children=(HTML(value='Computing edges'), FloatProgress(value=0.0, max=201.0), HTML(value='')))"
      ]
     },
     "metadata": {},
     "output_type": "display_data"
    },
    {
     "name": "stdout",
     "output_type": "stream",
     "text": [
      "\n"
     ]
    },
    {
     "data": {
      "application/vnd.jupyter.widget-view+json": {
       "model_id": "ad063d53d3914025a513d08d71cc3f72",
       "version_major": 2,
       "version_minor": 0
      },
      "text/plain": [
       "HBox(children=(HTML(value='Computing triangles'), FloatProgress(value=0.0, max=677.0), HTML(value='')))"
      ]
     },
     "metadata": {},
     "output_type": "display_data"
    },
    {
     "name": "stdout",
     "output_type": "stream",
     "text": [
      "\n"
     ]
    },
    {
     "data": {
      "application/vnd.jupyter.widget-view+json": {
       "model_id": "9ccd7f5db14d4f26bdc084d7149cf0b7",
       "version_major": 2,
       "version_minor": 0
      },
      "text/plain": [
       "HBox(children=(HTML(value='Computing edges'), FloatProgress(value=0.0, max=201.0), HTML(value='')))"
      ]
     },
     "metadata": {},
     "output_type": "display_data"
    },
    {
     "name": "stdout",
     "output_type": "stream",
     "text": [
      "\n"
     ]
    },
    {
     "data": {
      "application/vnd.jupyter.widget-view+json": {
       "model_id": "ddf827458b614c9eb2923416b4918004",
       "version_major": 2,
       "version_minor": 0
      },
      "text/plain": [
       "HBox(children=(HTML(value='Computing triangles'), FloatProgress(value=0.0, max=677.0), HTML(value='')))"
      ]
     },
     "metadata": {},
     "output_type": "display_data"
    },
    {
     "name": "stdout",
     "output_type": "stream",
     "text": [
      "\n"
     ]
    },
    {
     "data": {
      "application/vnd.jupyter.widget-view+json": {
       "model_id": "07d897e968fc4bbdb4c35562fc8aaec1",
       "version_major": 2,
       "version_minor": 0
      },
      "text/plain": [
       "HBox(children=(HTML(value='Computing edges'), FloatProgress(value=0.0, max=201.0), HTML(value='')))"
      ]
     },
     "metadata": {},
     "output_type": "display_data"
    },
    {
     "name": "stdout",
     "output_type": "stream",
     "text": [
      "\n"
     ]
    },
    {
     "data": {
      "application/vnd.jupyter.widget-view+json": {
       "model_id": "3be0464085bf4afa981b3c439467e441",
       "version_major": 2,
       "version_minor": 0
      },
      "text/plain": [
       "HBox(children=(HTML(value='Computing triangles'), FloatProgress(value=0.0, max=677.0), HTML(value='')))"
      ]
     },
     "metadata": {},
     "output_type": "display_data"
    },
    {
     "name": "stdout",
     "output_type": "stream",
     "text": [
      "\n"
     ]
    },
    {
     "data": {
      "application/vnd.jupyter.widget-view+json": {
       "model_id": "b89b8ffe641f4e749e816850b2c5c65b",
       "version_major": 2,
       "version_minor": 0
      },
      "text/plain": [
       "HBox(children=(HTML(value='Computing edges'), FloatProgress(value=0.0, max=201.0), HTML(value='')))"
      ]
     },
     "metadata": {},
     "output_type": "display_data"
    },
    {
     "name": "stdout",
     "output_type": "stream",
     "text": [
      "\n"
     ]
    },
    {
     "data": {
      "application/vnd.jupyter.widget-view+json": {
       "model_id": "64efd8c7c991434b867f8051e26b4cbd",
       "version_major": 2,
       "version_minor": 0
      },
      "text/plain": [
       "HBox(children=(HTML(value='Computing triangles'), FloatProgress(value=0.0, max=677.0), HTML(value='')))"
      ]
     },
     "metadata": {},
     "output_type": "display_data"
    },
    {
     "name": "stdout",
     "output_type": "stream",
     "text": [
      "\n"
     ]
    },
    {
     "data": {
      "application/vnd.jupyter.widget-view+json": {
       "model_id": "437cb025202c4e068dee5dbc0f15a383",
       "version_major": 2,
       "version_minor": 0
      },
      "text/plain": [
       "HBox(children=(HTML(value='Computing edges'), FloatProgress(value=0.0, max=201.0), HTML(value='')))"
      ]
     },
     "metadata": {},
     "output_type": "display_data"
    },
    {
     "name": "stdout",
     "output_type": "stream",
     "text": [
      "\n"
     ]
    },
    {
     "data": {
      "application/vnd.jupyter.widget-view+json": {
       "model_id": "b07188f32bce40b888128b43ac8dfc69",
       "version_major": 2,
       "version_minor": 0
      },
      "text/plain": [
       "HBox(children=(HTML(value='Computing triangles'), FloatProgress(value=0.0, max=677.0), HTML(value='')))"
      ]
     },
     "metadata": {},
     "output_type": "display_data"
    },
    {
     "name": "stdout",
     "output_type": "stream",
     "text": [
      "\n"
     ]
    },
    {
     "data": {
      "application/vnd.jupyter.widget-view+json": {
       "model_id": "4801c1620ee74c2b8e6649075e256ca2",
       "version_major": 2,
       "version_minor": 0
      },
      "text/plain": [
       "HBox(children=(HTML(value='Computing edges'), FloatProgress(value=0.0, max=201.0), HTML(value='')))"
      ]
     },
     "metadata": {},
     "output_type": "display_data"
    },
    {
     "name": "stdout",
     "output_type": "stream",
     "text": [
      "\n"
     ]
    },
    {
     "data": {
      "application/vnd.jupyter.widget-view+json": {
       "model_id": "dec3a3f158ea458885ff1aa45e90f4f8",
       "version_major": 2,
       "version_minor": 0
      },
      "text/plain": [
       "HBox(children=(HTML(value='Computing triangles'), FloatProgress(value=0.0, max=677.0), HTML(value='')))"
      ]
     },
     "metadata": {},
     "output_type": "display_data"
    },
    {
     "name": "stdout",
     "output_type": "stream",
     "text": [
      "\n"
     ]
    },
    {
     "data": {
      "application/vnd.jupyter.widget-view+json": {
       "model_id": "56d40ff9bb9744adb68796289e835ecd",
       "version_major": 2,
       "version_minor": 0
      },
      "text/plain": [
       "HBox(children=(HTML(value='Computing edges'), FloatProgress(value=0.0, max=201.0), HTML(value='')))"
      ]
     },
     "metadata": {},
     "output_type": "display_data"
    },
    {
     "name": "stdout",
     "output_type": "stream",
     "text": [
      "\n"
     ]
    },
    {
     "data": {
      "application/vnd.jupyter.widget-view+json": {
       "model_id": "f056d9af98724cd7b17c405dd69ff94b",
       "version_major": 2,
       "version_minor": 0
      },
      "text/plain": [
       "HBox(children=(HTML(value='Computing triangles'), FloatProgress(value=0.0, max=677.0), HTML(value='')))"
      ]
     },
     "metadata": {},
     "output_type": "display_data"
    },
    {
     "name": "stdout",
     "output_type": "stream",
     "text": [
      "\n"
     ]
    },
    {
     "data": {
      "application/vnd.jupyter.widget-view+json": {
       "model_id": "133a5997334c4be4b6be3f78aea0ad27",
       "version_major": 2,
       "version_minor": 0
      },
      "text/plain": [
       "HBox(children=(HTML(value='Computing edges'), FloatProgress(value=0.0, max=201.0), HTML(value='')))"
      ]
     },
     "metadata": {},
     "output_type": "display_data"
    },
    {
     "name": "stdout",
     "output_type": "stream",
     "text": [
      "\n"
     ]
    },
    {
     "data": {
      "application/vnd.jupyter.widget-view+json": {
       "model_id": "12f7f4b31b964c53b1b79761c80ec460",
       "version_major": 2,
       "version_minor": 0
      },
      "text/plain": [
       "HBox(children=(HTML(value='Computing triangles'), FloatProgress(value=0.0, max=677.0), HTML(value='')))"
      ]
     },
     "metadata": {},
     "output_type": "display_data"
    },
    {
     "name": "stdout",
     "output_type": "stream",
     "text": [
      "\n"
     ]
    },
    {
     "data": {
      "application/vnd.jupyter.widget-view+json": {
       "model_id": "175cfac1395d44db87d1c386296c7dc2",
       "version_major": 2,
       "version_minor": 0
      },
      "text/plain": [
       "HBox(children=(HTML(value='Computing edges'), FloatProgress(value=0.0, max=201.0), HTML(value='')))"
      ]
     },
     "metadata": {},
     "output_type": "display_data"
    },
    {
     "name": "stdout",
     "output_type": "stream",
     "text": [
      "\n"
     ]
    },
    {
     "data": {
      "application/vnd.jupyter.widget-view+json": {
       "model_id": "d1141cf1a7ca4451b393f46a7899f40f",
       "version_major": 2,
       "version_minor": 0
      },
      "text/plain": [
       "HBox(children=(HTML(value='Computing triangles'), FloatProgress(value=0.0, max=677.0), HTML(value='')))"
      ]
     },
     "metadata": {},
     "output_type": "display_data"
    },
    {
     "name": "stdout",
     "output_type": "stream",
     "text": [
      "\n"
     ]
    },
    {
     "data": {
      "application/vnd.jupyter.widget-view+json": {
       "model_id": "472b118911ef433eab8a489283dc03d7",
       "version_major": 2,
       "version_minor": 0
      },
      "text/plain": [
       "HBox(children=(HTML(value='Computing edges'), FloatProgress(value=0.0, max=201.0), HTML(value='')))"
      ]
     },
     "metadata": {},
     "output_type": "display_data"
    },
    {
     "name": "stdout",
     "output_type": "stream",
     "text": [
      "\n"
     ]
    },
    {
     "data": {
      "application/vnd.jupyter.widget-view+json": {
       "model_id": "44446b59449b450287376e3136d944a2",
       "version_major": 2,
       "version_minor": 0
      },
      "text/plain": [
       "HBox(children=(HTML(value='Computing triangles'), FloatProgress(value=0.0, max=677.0), HTML(value='')))"
      ]
     },
     "metadata": {},
     "output_type": "display_data"
    },
    {
     "name": "stdout",
     "output_type": "stream",
     "text": [
      "\n"
     ]
    },
    {
     "data": {
      "application/vnd.jupyter.widget-view+json": {
       "model_id": "55d136ad559048869a760b76b57c6446",
       "version_major": 2,
       "version_minor": 0
      },
      "text/plain": [
       "HBox(children=(HTML(value='Computing edges'), FloatProgress(value=0.0, max=201.0), HTML(value='')))"
      ]
     },
     "metadata": {},
     "output_type": "display_data"
    },
    {
     "name": "stdout",
     "output_type": "stream",
     "text": [
      "\n"
     ]
    },
    {
     "data": {
      "application/vnd.jupyter.widget-view+json": {
       "model_id": "27d72a0b27e544d59de2168362ecdbce",
       "version_major": 2,
       "version_minor": 0
      },
      "text/plain": [
       "HBox(children=(HTML(value='Computing triangles'), FloatProgress(value=0.0, max=677.0), HTML(value='')))"
      ]
     },
     "metadata": {},
     "output_type": "display_data"
    },
    {
     "name": "stdout",
     "output_type": "stream",
     "text": [
      "\n"
     ]
    },
    {
     "data": {
      "application/vnd.jupyter.widget-view+json": {
       "model_id": "198bfcd433124de6b31440ce1063c2cb",
       "version_major": 2,
       "version_minor": 0
      },
      "text/plain": [
       "HBox(children=(HTML(value='Computing edges'), FloatProgress(value=0.0, max=201.0), HTML(value='')))"
      ]
     },
     "metadata": {},
     "output_type": "display_data"
    },
    {
     "name": "stdout",
     "output_type": "stream",
     "text": [
      "\n"
     ]
    },
    {
     "data": {
      "application/vnd.jupyter.widget-view+json": {
       "model_id": "e58d2645f1c044578b6475c26705e298",
       "version_major": 2,
       "version_minor": 0
      },
      "text/plain": [
       "HBox(children=(HTML(value='Computing triangles'), FloatProgress(value=0.0, max=677.0), HTML(value='')))"
      ]
     },
     "metadata": {},
     "output_type": "display_data"
    },
    {
     "name": "stdout",
     "output_type": "stream",
     "text": [
      "\n"
     ]
    },
    {
     "data": {
      "application/vnd.jupyter.widget-view+json": {
       "model_id": "8d2c2508c8cc4c8d87243326ca4057dc",
       "version_major": 2,
       "version_minor": 0
      },
      "text/plain": [
       "HBox(children=(HTML(value='Computing edges'), FloatProgress(value=0.0, max=201.0), HTML(value='')))"
      ]
     },
     "metadata": {},
     "output_type": "display_data"
    },
    {
     "name": "stdout",
     "output_type": "stream",
     "text": [
      "\n"
     ]
    },
    {
     "data": {
      "application/vnd.jupyter.widget-view+json": {
       "model_id": "f184b8fc86c54cbaa045d5a5f7d44a85",
       "version_major": 2,
       "version_minor": 0
      },
      "text/plain": [
       "HBox(children=(HTML(value='Computing triangles'), FloatProgress(value=0.0, max=677.0), HTML(value='')))"
      ]
     },
     "metadata": {},
     "output_type": "display_data"
    },
    {
     "name": "stdout",
     "output_type": "stream",
     "text": [
      "\n"
     ]
    },
    {
     "data": {
      "application/vnd.jupyter.widget-view+json": {
       "model_id": "c84a2d1340644016812856b7ef342028",
       "version_major": 2,
       "version_minor": 0
      },
      "text/plain": [
       "HBox(children=(HTML(value='Computing edges'), FloatProgress(value=0.0, max=201.0), HTML(value='')))"
      ]
     },
     "metadata": {},
     "output_type": "display_data"
    },
    {
     "name": "stdout",
     "output_type": "stream",
     "text": [
      "\n"
     ]
    },
    {
     "data": {
      "application/vnd.jupyter.widget-view+json": {
       "model_id": "2e32100d5d434c3f8a6aad68f7d7d717",
       "version_major": 2,
       "version_minor": 0
      },
      "text/plain": [
       "HBox(children=(HTML(value='Computing triangles'), FloatProgress(value=0.0, max=677.0), HTML(value='')))"
      ]
     },
     "metadata": {},
     "output_type": "display_data"
    },
    {
     "name": "stdout",
     "output_type": "stream",
     "text": [
      "\n"
     ]
    },
    {
     "data": {
      "application/vnd.jupyter.widget-view+json": {
       "model_id": "3f3df52c84bf4828990192a7b908d8a9",
       "version_major": 2,
       "version_minor": 0
      },
      "text/plain": [
       "HBox(children=(HTML(value='Computing edges'), FloatProgress(value=0.0, max=201.0), HTML(value='')))"
      ]
     },
     "metadata": {},
     "output_type": "display_data"
    },
    {
     "name": "stdout",
     "output_type": "stream",
     "text": [
      "\n"
     ]
    },
    {
     "data": {
      "application/vnd.jupyter.widget-view+json": {
       "model_id": "09a58ec7cb344da4a4e22900e2ccfef7",
       "version_major": 2,
       "version_minor": 0
      },
      "text/plain": [
       "HBox(children=(HTML(value='Computing triangles'), FloatProgress(value=0.0, max=677.0), HTML(value='')))"
      ]
     },
     "metadata": {},
     "output_type": "display_data"
    },
    {
     "name": "stdout",
     "output_type": "stream",
     "text": [
      "\n"
     ]
    }
   ],
   "source": [
    "T=300\n",
    "times = range(0,T,5)\n",
    "\n",
    "filenames = []\n",
    "for t in times:\n",
    "    mech_coords = path[-1, :, : len(ces)]\n",
    "    purv_coords = path[-1, :, len(ces) :]\n",
    "    \n",
    "    name = \"pngs/ch3_circle/frame\"+str(t)+\".png\"\n",
    "    fig = viz.plot_ces_epicycles(\n",
    "        system,\n",
    "        ces,\n",
    "        rels,\n",
    "        network_name=\"ch3_spring_random_static_mechs_small\",\n",
    "        user_mechanism_coords=mech_coords,\n",
    "        user_purview_coords=purv_coords,\n",
    "        link_width_range=(1, 3),\n",
    "        eye_coordinates=(0, 0, 1),\n",
    "        mechanism_labels_size=8,\n",
    "        purview_labels_size=8,\n",
    "        mechanism_label_position=\"middle center\",\n",
    "        purview_label_position=\"middle center\",\n",
    "        show_purview_labels=False,\n",
    "        save_plot_to_html=False,\n",
    "        png_name=name,\n",
    "        showlegend=False,\n",
    "        show_mechanism_labels=False,\n",
    "        show_mechanism_state_labels=False,\n",
    "    )\n",
    "    filenames.append(name)"
   ]
  }
 ],
 "metadata": {
  "kernelspec": {
   "display_name": "Python 3",
   "language": "python",
   "name": "python3"
  },
  "language_info": {
   "codemirror_mode": {
    "name": "ipython",
    "version": 3
   },
   "file_extension": ".py",
   "mimetype": "text/x-python",
   "name": "python",
   "nbconvert_exporter": "python",
   "pygments_lexer": "ipython3",
   "version": "3.7.9"
  }
 },
 "nbformat": 4,
 "nbformat_minor": 4
}
