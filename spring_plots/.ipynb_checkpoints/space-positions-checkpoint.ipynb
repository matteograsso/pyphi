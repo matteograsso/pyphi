{
 "cells": [
  {
   "cell_type": "code",
   "execution_count": 6,
   "metadata": {},
   "outputs": [
    {
     "name": "stdout",
     "output_type": "stream",
     "text": [
      "The autoreload extension is already loaded. To reload it, use:\n",
      "  %reload_ext autoreload\n"
     ]
    }
   ],
   "source": [
    "%load_ext autoreload\n",
    "%autoreload 2"
   ]
  },
  {
   "cell_type": "code",
   "execution_count": 17,
   "metadata": {},
   "outputs": [],
   "source": [
    "import pyphi\n",
    "import pickle\n",
    "import numpy as np\n",
    "import string\n",
    "import plotly.graph_objects as go\n",
    "import math\n",
    "pi = math.pi\n",
    "\n",
    "def strip_punct(s):\n",
    "    return str(\n",
    "        s.translate(str.maketrans({key: None for key in string.punctuation})).replace(\n",
    "            \" \", \"\"\n",
    "        )\n",
    "    )\n",
    "\n",
    "def find_continuous_members(members):\n",
    "    continuous_members = [m for m in members\n",
    "        if m==tuple(range(m[0],m[0]+len(m)))\n",
    "    ]\n",
    "    return continuous_members\n",
    "\n",
    "def circlepoints(r,n):\n",
    "    return [(math.cos(2*pi/n*x)*r,math.sin(2*pi/n*x)*r) for x in range(0,n)]\n",
    "\n",
    "def divide_mechs_by_order(mechs):\n",
    "    top_order = max([len(m) for m in mechs])\n",
    "    return [[m for m in mechs if len(m)==o] for o in range(1,top_order+1)]\n",
    "\n",
    "def make_continuous_mech_cone(mechs,radii=None,layer_height=1):\n",
    "    continuous_mechs = find_continuous_members(mechs)\n",
    "    mechs_by_order = divide_mechs_by_order(continuous_mechs)\n",
    "    orders_n = len(mechs_by_order)\n",
    "    if radii is None:\n",
    "        radii = [len(order)-1 for order in mechs_by_order]\n",
    "    coords = []\n",
    "    zs = range(0,orders_n*layer_height,layer_height)\n",
    "    for o,order in enumerate(mechs_by_order):\n",
    "        positions = circlepoints(len(order)-1,len(order))\n",
    "        order_coords = np.array([[position[0],position[1],zs[o]] for position in positions])\n",
    "        coords.append(order_coords)\n",
    "        \n",
    "    return coords"
   ]
  },
  {
   "cell_type": "code",
   "execution_count": null,
   "metadata": {},
   "outputs": [],
   "source": [
    "subsystem = pickle.load(open('space_subsystem.pkl','rb'))\n",
    "ces = pickle.load(open('space_ces_with_nodelabels.pkl','rb'))\n",
    "mechs = [c.mechanism for c in ces]\n",
    "\n",
    "coords = make_continuous_mech_cone(mechs, layer_height=2)"
   ]
  },
  {
   "cell_type": "code",
   "execution_count": 18,
   "metadata": {},
   "outputs": [],
   "source": [
    "continuous_mechs = find_continuous_members(mechs)\n",
    "labels_by_order = [[strip_punct(str(subsystem.indices2nodes(m))) for m in mechs] for mechs in divide_mechs_by_order(continuous_mechs)]\n",
    "\n",
    "traces = [\n",
    "    go.Scatter3d(x=coords[o][:,0],y=coords[o][:,1],z=coords[o][:,2], mode='markers+text',text=labels_by_order[o])\n",
    "    for o in range(len(coords))\n",
    "]\n",
    "\n",
    "fig = go.Figure(traces)\n",
    "# fig.update_layout(height=1000,width=1400)\n",
    "fig.show()\n",
    "# fig.write_html(\"space-positions.html\")"
   ]
  },
  {
   "cell_type": "code",
   "execution_count": null,
   "metadata": {},
   "outputs": [],
   "source": []
  }
 ],
 "metadata": {
  "kernelspec": {
   "display_name": "Python 3",
   "language": "python",
   "name": "python3"
  },
  "language_info": {
   "codemirror_mode": {
    "name": "ipython",
    "version": 3
   },
   "file_extension": ".py",
   "mimetype": "text/x-python",
   "name": "python",
   "nbconvert_exporter": "python",
   "pygments_lexer": "ipython3",
   "version": "3.7.10"
  },
  "metadata": {
   "interpreter": {
    "hash": "31f2aee4e71d21fbe5cf8b01ff0e069b9275f58929596ceb00d14d90e3e16cd6"
   }
  }
 },
 "nbformat": 4,
 "nbformat_minor": 2
}
