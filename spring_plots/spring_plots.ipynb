{
 "cells": [
  {
   "cell_type": "markdown",
   "metadata": {},
   "source": [
    "# a spring coupled mass simulator to create positions of mechanisms and purviews of a CES "
   ]
  },
  {
   "cell_type": "code",
   "execution_count": 1,
   "metadata": {},
   "outputs": [
    {
     "name": "stdout",
     "output_type": "stream",
     "text": [
      "\n",
      "Welcome to PyPhi!\n",
      "\n",
      "If you use PyPhi in your research, please cite the paper:\n",
      "\n",
      "  Mayner WGP, Marshall W, Albantakis L, Findlay G, Marchman R, Tononi G.\n",
      "  (2018). PyPhi: A toolbox for integrated information theory.\n",
      "  PLOS Computational Biology 14(7): e1006343.\n",
      "  https://doi.org/10.1371/journal.pcbi.1006343\n",
      "\n",
      "Documentation is available online (or with the built-in `help()` function):\n",
      "  https://pyphi.readthedocs.io\n",
      "\n",
      "To report issues, please use the issue tracker on the GitHub repository:\n",
      "  https://github.com/wmayner/pyphi\n",
      "\n",
      "For general discussion, you are welcome to join the pyphi-users group:\n",
      "  https://groups.google.com/forum/#!forum/pyphi-users\n",
      "\n",
      "To suppress this message, either:\n",
      "  - Set `WELCOME_OFF: true` in your `pyphi_config.yml` file, or\n",
      "  - Set the environment variable PYPHI_WELCOME_OFF to any value in your shell:\n",
      "        export PYPHI_WELCOME_OFF='yes'\n",
      "\n"
     ]
    }
   ],
   "source": [
    "import numpy as np\n",
    "import math\n",
    "import pickle as pkl\n",
    "\n",
    "from pyphi import visualize as viz\n",
    "from pyphi import relations as rel\n",
    "\n",
    "import matplotlib.pyplot as plt\n",
    "import string\n",
    "\n",
    "import random"
   ]
  },
  {
   "cell_type": "code",
   "execution_count": 115,
   "metadata": {},
   "outputs": [],
   "source": [
    "def strip_punct(s):\n",
    "    return str(s.translate(str.maketrans({key: None for key in string.punctuation})).replace(' ', ''))\n",
    "\n",
    "def update_position_and_velocity(position,velocity,force,delta,mass=1):\n",
    "    acceleration = force/mass\n",
    "    velocity = velocity+acceleration*delta\n",
    "    position = position+velocity*delta\n",
    "    return position, velocity\n",
    "\n",
    "def compute_force(self_position,other_positions,spring_constants,velocity,friction_factor):\n",
    "    spring_force = np.sum([-k*(self_position-position) for k,position in zip(spring_constants,other_positions)])\n",
    "    friction_force = -velocity*friction_factor\n",
    "    return spring_force + friction_force\n",
    "    \n",
    "def get_interactions(ces,rels,adjustment_factor=1):\n",
    "    \n",
    "    separated_ces = rel.separate_ces(ces)\n",
    "    N = len(ces)\n",
    "    M = len(separated_ces)\n",
    "    \n",
    "    # denote what components each purview will be affected by \n",
    "    # first the mechanisms\n",
    "    features_mechs = np.zeros((M,N))\n",
    "    for i in range(N):\n",
    "        features_mechs[2*i:2*i+2, i] = 1\n",
    "        \n",
    "    # next the relations\n",
    "    features_rels = viz.feature_matrix(rel.separate_ces(ces), rels)\n",
    "    features_rels = viz.feature_matrix(rel.separate_ces(ces), rels)\n",
    "    # features now contains information about any distinction or relation each purview is associated to\n",
    "    # next, we exchange the 1's with phi values\n",
    "    # frist for distinctions\n",
    "    for i in range(M):\n",
    "        features_mechs[i,:] *= separated_ces[i].phi\n",
    "        \n",
    "    for i in range(len(rels)):\n",
    "        features_rels[:,i] *= rels[i].phi/len(rels[i].relata)\n",
    "    \n",
    "    # getting the interactions between constituents\n",
    "    interactions = np.zeros((N+M,N+M))\n",
    "    \n",
    "    # filling with mechanism-purview interactions\n",
    "    interactions[N:,:N] = features_mechs\n",
    "    interactions[:N,N:] = np.transpose(features_mechs)\n",
    "    \n",
    "    # now for the purview-purview interactions\n",
    "    purview_purview = np.zeros((M,M))\n",
    "    for i,feature in enumerate(features_rels):\n",
    "        for r in feature.nonzero()[0]:\n",
    "            for j in features_rels[:,r].nonzero()[0]:\n",
    "                if not i==j:\n",
    "                    purview_purview[i,j] += feature[r]\n",
    "                    purview_purview[j,i] += feature[r]\n",
    "                    \n",
    "    #renormalizing to have same max as mechanisms interactions\n",
    "    purview_purview = adjustment_factor*np.max(interactions[N:,:N])*purview_purview/(np.max(np.sum(purview_purview,axis=1)))\n",
    "    \n",
    "    interactions[N:, N:] = purview_purview\n",
    "    \n",
    "    return interactions\n",
    "\n",
    "\n",
    "def equilibriate(ks,purviews,x,y,z=None,v_x=None,v_y=None,v_z=None,friction_factor=2,T=100,delta=0.1):\n",
    "    if z is None:\n",
    "        z=np.zeros(len(x))\n",
    "    if v_x is None:\n",
    "        v_x=np.zeros(len(x))\n",
    "    if v_y is None:\n",
    "        v_y=np.zeros(len(x))\n",
    "    if v_z is None:\n",
    "        v_z=np.zeros(len(x))\n",
    "        \n",
    "    path_x = []\n",
    "    path_y = []\n",
    "    path_z = []\n",
    "    for t in range(T):\n",
    "        path_x.append(list(x))\n",
    "        path_y.append(list(y))\n",
    "        path_z.append(list(z))\n",
    "        for i in purviews:\n",
    "            x[i],v_x[i] = update_position_and_velocity(x[i],v_x[i],compute_force(x[i],x,ks[i],v_x[i],friction_factor),delta)\n",
    "            y[i],v_y[i] = update_position_and_velocity(y[i],v_y[i],compute_force(y[i],y,ks[i],v_y[i],friction_factor),delta)\n",
    "            z[i],v_z[i] = update_position_and_velocity(z[i],v_z[i],compute_force(z[i],z,ks[i],v_z[i],friction_factor),delta)\n",
    "        \n",
    "    return x, y, z, path_x, path_y, path_z\n",
    "\n",
    "def initialize_positions(ces, center=(1,1), z=0, radius=1):\n",
    "    mechs = viz.regular_polygon(len(ces), center=center, angle=0, z=0, radius=radius, scale=1)\n",
    "    purviews = viz.regular_polygon(2*len(ces), center=center, angle=math.pi / (len(ces)), z=0, radius=radius, scale=0.9)\n",
    "    return np.array(mechs+purviews)"
   ]
  },
  {
   "cell_type": "markdown",
   "metadata": {},
   "source": [
    "# Chapter 3 system"
   ]
  },
  {
   "cell_type": "code",
   "execution_count": 86,
   "metadata": {},
   "outputs": [],
   "source": [
    "with open(r\"ch3_ces.pkl\", \"rb\") as f:\n",
    "    ces = pkl.load(f)\n",
    "    \n",
    "with open(r\"ch3_rels.pkl\", \"rb\") as f:\n",
    "    rels = pkl.load(f)\n",
    "    \n",
    "with open(r\"ch3_subsystem.pkl\", \"rb\") as f:\n",
    "    system = pkl.load(f)"
   ]
  },
  {
   "cell_type": "code",
   "execution_count": 118,
   "metadata": {},
   "outputs": [
    {
     "data": {
      "image/png": "[encoded data removed]",
      "text/plain": [
       "<Figure size 432x288 with 1 Axes>"
      ]
     },
     "metadata": {
      "needs_background": "light"
     },
     "output_type": "display_data"
    }
   ],
   "source": [
    "xyz = initialize_positions(ces)\n",
    "plt.scatter(xyz[:,0],xyz[:,1])\n",
    "plt.show()"
   ]
  },
  {
   "cell_type": "code",
   "execution_count": 125,
   "metadata": {},
   "outputs": [],
   "source": [
    "\n",
    "\n",
    "k = get_interactions(ces,rels,0.5)\n",
    "\n",
    "purview_indices = tuple(range(15,45))\n",
    "x,y,z,px,py,pz = equilibriate(k,purview_indices,xyz[:,0],xyz[:,1],T=1000,friction_factor=0.2)\n"
   ]
  },
  {
   "cell_type": "code",
   "execution_count": 126,
   "metadata": {},
   "outputs": [
    {
     "data": {
      "image/png": "[encoded data removed]",
      "text/plain": [
       "<Figure size 432x288 with 1 Axes>"
      ]
     },
     "metadata": {
      "needs_background": "light"
     },
     "output_type": "display_data"
    }
   ],
   "source": [
    "plt.plot(np.array(px)[:,-12])\n",
    "plt.show()"
   ]
  },
  {
   "cell_type": "code",
   "execution_count": 127,
   "metadata": {},
   "outputs": [
    {
     "data": {
      "image/png": "[encoded data removed]",
      "text/plain": [
       "<Figure size 432x288 with 1 Axes>"
      ]
     },
     "metadata": {
      "needs_background": "light"
     },
     "output_type": "display_data"
    }
   ],
   "source": [
    "plt.scatter(x,y)\n",
    "plt.show()"
   ]
  },
  {
   "cell_type": "code",
   "execution_count": 5,
   "metadata": {},
   "outputs": [],
   "source": [
    "labels = [strip_punct(str(system.indices2nodes(c.mechanism))) for c in ces]+[strip_punct(str(system.indices2nodes(c.purview))) for c in rel.separate_ces(ces)]\n",
    "\n",
    "mech_coords = [x[:len(ces)],y[:len(ces)],np.zeros(len(ces))]\n",
    "purv_coords = np.array([\n",
    "    [x[len(ces):][i],y[len(ces):][i],np.zeros(2*len(ces))[i]]\n",
    "     for i in range(2*len(ces))\n",
    "])"
   ]
  },
  {
   "cell_type": "code",
   "execution_count": 7,
   "metadata": {},
   "outputs": [
    {
     "data": {
      "application/vnd.jupyter.widget-view+json": {
       "model_id": "239e32117ae241f58aa208cfcf79c178",
       "version_major": 2,
       "version_minor": 0
      },
      "text/plain": [
       "Computing edges:   0%|          | 0/201 [00:00<?, ?it/s]"
      ]
     },
     "metadata": {},
     "output_type": "display_data"
    },
    {
     "data": {
      "application/vnd.jupyter.widget-view+json": {
       "model_id": "0c882e621eb2478a916b20e646ff49a0",
       "version_major": 2,
       "version_minor": 0
      },
      "text/plain": [
       "Computing triangles:   0%|          | 0/677 [00:00<?, ?it/s]"
      ]
     },
     "metadata": {},
     "output_type": "display_data"
    }
   ],
   "source": [
    "fig = viz.plot_ces_epicycles(system,ces,rels,network_name='ch3_spring',\n",
    "                             user_mechanism_coords=mech_coords,\n",
    "                             user_purview_coords=purv_coords,\n",
    "                             link_width_range=(1,3),\n",
    "                             eye_coordinates=(0,0,1),\n",
    "                             mechanism_labels_size=8,\n",
    "                             purview_labels_size=8,\n",
    "                             mechanism_label_position='middle center',\n",
    "                             purview_label_position='middle center',\n",
    "                             show_purview_labels=True,\n",
    ")"
   ]
  },
  {
   "cell_type": "markdown",
   "metadata": {},
   "source": [
    "# Space"
   ]
  },
  {
   "cell_type": "code",
   "execution_count": 128,
   "metadata": {},
   "outputs": [],
   "source": [
    "with open(r\"space_ces_with_nodelabels.pkl\", \"rb\") as f:\n",
    "    ces = pkl.load(f)\n",
    "    \n",
    "with open(r\"space_subsystem.pkl\", \"rb\") as f:\n",
    "    system = pkl.load(f)\n",
    "    \n",
    "with open(r\"space_2relations.pkl\", \"rb\") as f:    \n",
    "    #This file includes all 2-relations (~30k)\n",
    "    tworels = pkl.load(f)  \n",
    "sample2rels = random.sample(tworels,5000)"
   ]
  },
  {
   "cell_type": "code",
   "execution_count": 129,
   "metadata": {},
   "outputs": [],
   "source": [
    "rels = sample2rels\n",
    "rels = tworels"
   ]
  },
  {
   "cell_type": "code",
   "execution_count": 159,
   "metadata": {},
   "outputs": [
    {
     "data": {
      "image/png": "[encoded data removed]",
      "text/plain": [
       "<Figure size 432x288 with 1 Axes>"
      ]
     },
     "metadata": {
      "needs_background": "light"
     },
     "output_type": "display_data"
    }
   ],
   "source": [
    "xyz = initialize_positions(ces)\n",
    "\n",
    "plt.scatter(xyz[:,0],xyz[:,1])\n",
    "plt.show()"
   ]
  },
  {
   "cell_type": "code",
   "execution_count": 164,
   "metadata": {},
   "outputs": [],
   "source": [
    "\n",
    "\n",
    "k = get_interactions(ces,rels,adjustment_factor=0.1)\n",
    "\n",
    "purview_indices = tuple(range(len(ces),len(ces)*3))\n",
    "x,y,z,px,py,pz = equilibriate(k,purview_indices,xyz[:,0],xyz[:,1],T=100,delta=1,friction_factor=1)\n"
   ]
  },
  {
   "cell_type": "code",
   "execution_count": 165,
   "metadata": {},
   "outputs": [
    {
     "data": {
      "image/png": "[encoded data removed]",
      "text/plain": [
       "<Figure size 432x288 with 1 Axes>"
      ]
     },
     "metadata": {
      "needs_background": "light"
     },
     "output_type": "display_data"
    }
   ],
   "source": [
    "\n",
    "plt.scatter(x,y)\n",
    "plt.show()"
   ]
  },
  {
   "cell_type": "code",
   "execution_count": 166,
   "metadata": {},
   "outputs": [
    {
     "data": {
      "text/plain": [
       "<matplotlib.collections.PathCollection at 0x7f5b39128a10>"
      ]
     },
     "execution_count": 166,
     "metadata": {},
     "output_type": "execute_result"
    },
    {
     "data": {
      "image/png": "[encoded data removed]",
      "text/plain": [
       "<Figure size 432x288 with 1 Axes>"
      ]
     },
     "metadata": {
      "needs_background": "light"
     },
     "output_type": "display_data"
    }
   ],
   "source": [
    "plt.scatter(np.array(px)[:,-10:-1],np.array(py)[:,-10:-1])"
   ]
  },
  {
   "cell_type": "code",
   "execution_count": 167,
   "metadata": {},
   "outputs": [
    {
     "data": {
      "text/plain": [
       "[<matplotlib.lines.Line2D at 0x7f5b390c17d0>,\n",
       " <matplotlib.lines.Line2D at 0x7f5b39229fd0>,\n",
       " <matplotlib.lines.Line2D at 0x7f5b390c1d50>,\n",
       " <matplotlib.lines.Line2D at 0x7f5b390c1690>,\n",
       " <matplotlib.lines.Line2D at 0x7f5b390c1bd0>,\n",
       " <matplotlib.lines.Line2D at 0x7f5b390c12d0>,\n",
       " <matplotlib.lines.Line2D at 0x7f5b390c1e90>,\n",
       " <matplotlib.lines.Line2D at 0x7f5b390c1750>,\n",
       " <matplotlib.lines.Line2D at 0x7f5b390c19d0>]"
      ]
     },
     "execution_count": 167,
     "metadata": {},
     "output_type": "execute_result"
    },
    {
     "data": {
      "image/png": "[encoded data removed]",
      "text/plain": [
       "<Figure size 432x288 with 1 Axes>"
      ]
     },
     "metadata": {
      "needs_background": "light"
     },
     "output_type": "display_data"
    }
   ],
   "source": [
    "plt.plot(np.array(py)[:,-10:-1])"
   ]
  },
  {
   "cell_type": "code",
   "execution_count": 66,
   "metadata": {},
   "outputs": [],
   "source": [
    "labels = [strip_punct(str(system.indices2nodes(c.mechanism))) for c in ces]+[strip_punct(str(system.indices2nodes(c.purview))) for c in rel.separate_ces(ces)]\n",
    "\n",
    "mech_coords = [x[:len(ces)],y[:len(ces)],np.zeros(len(ces))]\n",
    "purv_coords = np.array([\n",
    "    [x[len(ces):][i],y[len(ces):][i],np.zeros(2*len(ces))[i]]\n",
    "     for i in range(2*len(ces))\n",
    "])"
   ]
  },
  {
   "cell_type": "code",
   "execution_count": 67,
   "metadata": {},
   "outputs": [],
   "source": [
    "fig = viz.plot_ces_epicycles(system,ces,rels,network_name='space_spring_2rels_5k_no_edge',\n",
    "                             user_mechanism_coords=mech_coords,\n",
    "                             user_purview_coords=purv_coords,\n",
    "                             link_width_range=(1,3),\n",
    "                             eye_coordinates=(0,0,1),\n",
    "                             mechanism_labels_size=8,\n",
    "                             purview_labels_size=8,\n",
    "                             mechanism_label_position='middle center',\n",
    "                             purview_label_position='middle center',\n",
    "                             show_purview_labels='legendonly',\n",
    "                             show_edges=False,\n",
    "                            )"
   ]
  },
  {
   "cell_type": "markdown",
   "metadata": {},
   "source": [
    "# toy example to test code"
   ]
  },
  {
   "cell_type": "code",
   "execution_count": 151,
   "metadata": {},
   "outputs": [],
   "source": [
    "k = [\n",
    "    [0,1,2,0,1],\n",
    "    [1,0,3,2,3],\n",
    "    [2,3,0,1,2],\n",
    "    [0,2,1,0,1],\n",
    "    [1,3,2,1,0]\n",
    "]\n",
    "x,y,z,px,py,pz = equilibriate(k,(2,3),[2,1,2,3,4],[0,1,2,3,4],friction_factor=2,delta=0.1)"
   ]
  },
  {
   "cell_type": "code",
   "execution_count": 152,
   "metadata": {},
   "outputs": [
    {
     "data": {
      "text/plain": [
       "<matplotlib.collections.PathCollection at 0x7f5b3a2a2a50>"
      ]
     },
     "execution_count": 152,
     "metadata": {},
     "output_type": "execute_result"
    },
    {
     "data": {
      "image/png": "[encoded data removed]",
      "text/plain": [
       "<Figure size 432x288 with 1 Axes>"
      ]
     },
     "metadata": {
      "needs_background": "light"
     },
     "output_type": "display_data"
    }
   ],
   "source": [
    "plt.scatter(x,y)"
   ]
  },
  {
   "cell_type": "code",
   "execution_count": 153,
   "metadata": {},
   "outputs": [
    {
     "data": {
      "text/plain": [
       "[2, 1, 2.129034787874921, 2.0322497560161437, 4]"
      ]
     },
     "execution_count": 153,
     "metadata": {},
     "output_type": "execute_result"
    }
   ],
   "source": [
    "x"
   ]
  },
  {
   "cell_type": "code",
   "execution_count": 154,
   "metadata": {},
   "outputs": [
    {
     "data": {
      "text/plain": [
       "<matplotlib.collections.PathCollection at 0x7f5b395aff50>"
      ]
     },
     "execution_count": 154,
     "metadata": {},
     "output_type": "execute_result"
    },
    {
     "data": {
      "image/png": "[encoded data removed]",
      "text/plain": [
       "<Figure size 432x288 with 1 Axes>"
      ]
     },
     "metadata": {
      "needs_background": "light"
     },
     "output_type": "display_data"
    }
   ],
   "source": [
    "plt.scatter(np.array(px)[:,-2],np.array(py)[:,-2])"
   ]
  },
  {
   "cell_type": "code",
   "execution_count": 155,
   "metadata": {},
   "outputs": [
    {
     "data": {
      "text/plain": [
       "[<matplotlib.lines.Line2D at 0x7f5b394844d0>,\n",
       " <matplotlib.lines.Line2D at 0x7f5b394ed350>,\n",
       " <matplotlib.lines.Line2D at 0x7f5b39484650>,\n",
       " <matplotlib.lines.Line2D at 0x7f5b39484710>,\n",
       " <matplotlib.lines.Line2D at 0x7f5b39484850>]"
      ]
     },
     "execution_count": 155,
     "metadata": {},
     "output_type": "execute_result"
    },
    {
     "data": {
      "image/png": "[encoded data removed]",
      "text/plain": [
       "<Figure size 432x288 with 1 Axes>"
      ]
     },
     "metadata": {
      "needs_background": "light"
     },
     "output_type": "display_data"
    }
   ],
   "source": [
    "plt.plot(np.array(px))"
   ]
  },
  {
   "cell_type": "code",
   "execution_count": null,
   "metadata": {},
   "outputs": [],
   "source": []
  },
  {
   "cell_type": "code",
   "execution_count": null,
   "metadata": {},
   "outputs": [],
   "source": []
  }
 ],
 "metadata": {
  "kernelspec": {
   "display_name": "Python 3",
   "language": "python",
   "name": "python3"
  },
  "language_info": {
   "codemirror_mode": {
    "name": "ipython",
    "version": 3
   },
   "file_extension": ".py",
   "mimetype": "text/x-python",
   "name": "python",
   "nbconvert_exporter": "python",
   "pygments_lexer": "ipython3",
   "version": "3.7.9"
  }
 },
 "nbformat": 4,
 "nbformat_minor": 4
}
