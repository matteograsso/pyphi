{
 "cells": [
  {
   "cell_type": "code",
   "execution_count": 1,
   "metadata": {},
   "outputs": [],
   "source": [
    "%load_ext autoreload\n",
    "%autoreload 2"
   ]
  },
  {
   "cell_type": "code",
   "execution_count": 211,
   "metadata": {},
   "outputs": [],
   "source": [
    "import pyphi\n",
    "import pickle\n",
    "import numpy as np\n",
    "import string\n",
    "import plotly.graph_objects as go\n",
    "import math\n",
    "pi = math.pi\n",
    "\n",
    "def strip_punct(s):\n",
    "    return str(\n",
    "        s.translate(str.maketrans({key: None for key in string.punctuation})).replace(\n",
    "            \" \", \"\"\n",
    "        )\n",
    "    )\n",
    "\n",
    "def find_continuous_members(members):\n",
    "    continuous_members = [m for m in members\n",
    "        if m==tuple(range(m[0],m[0]+len(m)))\n",
    "    ]\n",
    "    return continuous_members\n",
    "\n",
    "def circlepoints(r,n):\n",
    "    return [(math.cos(2*pi/n*x)*r,math.sin(2*pi/n*x)*r) for x in range(0,n)]\n",
    "\n",
    "def divide_mechs_by_order(mechs):\n",
    "    top_order = max([len(m) for m in mechs])\n",
    "    return [[m for m in mechs if len(m)==o] for o in range(1,top_order+1)]\n",
    "\n",
    "def make_continuous_mech_cone(mechs,radii=None,layer_height=1):\n",
    "    continuous_mechs = find_continuous_members(mechs)\n",
    "    mechs_by_order = divide_mechs_by_order(continuous_mechs)\n",
    "    orders_n = len(mechs_by_order)\n",
    "    if radii is None:\n",
    "        radii = [len(order)-1 for order in mechs_by_order]\n",
    "    coords = []\n",
    "    zs = range(0,orders_n*layer_height,layer_height)\n",
    "    for o,order in enumerate(mechs_by_order):\n",
    "        positions = circlepoints(radii[o],len(order))\n",
    "        order_coords = np.array([[position[0],position[1],zs[o]] for position in positions])\n",
    "        coords.append(order_coords)\n",
    "        \n",
    "    return coords"
   ]
  },
  {
   "cell_type": "code",
   "execution_count": 233,
   "metadata": {},
   "outputs": [],
   "source": [
    "subsystem = pickle.load(open('space_subsystem.pkl','rb'))\n",
    "ces = pickle.load(open('space_ces_with_nodelabels.pkl','rb'))\n",
    "mechs = [c.mechanism for c in ces]\n",
    "\n",
    "coords = make_continuous_mech_cone(mechs, radii=[4,5,6,6,5,4,3,0], layer_height=2)\n",
    "\n",
    "continuous_mechs = find_continuous_members(mechs)\n",
    "\n",
    "labels_by_order = [[strip_punct(str(subsystem.indices2nodes(m))) for m in mechs] for mechs in divide_mechs_by_order(continuous_mechs)]"
   ]
  },
  {
   "cell_type": "code",
   "execution_count": 234,
   "metadata": {},
   "outputs": [],
   "source": [
    "# traces = [\n",
    "#     go.Scatter3d(x=coords[o][:,0],y=coords[o][:,1],z=coords[o][:,2], mode='markers+text',text=labels_by_order[o])\n",
    "#     for o in range(len(coords))\n",
    "# ]\n",
    "\n",
    "# fig = go.Figure(traces)\n",
    "# # fig.update_layout(height=1000,width=1400)\n",
    "# fig.show()\n",
    "# # fig.write_html(\"space-positions.html\")"
   ]
  },
  {
   "cell_type": "markdown",
   "metadata": {},
   "source": [
    "# Other stuff"
   ]
  },
  {
   "cell_type": "code",
   "execution_count": 235,
   "metadata": {},
   "outputs": [],
   "source": [
    "import pyphi.visualize as vis\n",
    "import random"
   ]
  },
  {
   "cell_type": "code",
   "execution_count": 236,
   "metadata": {},
   "outputs": [],
   "source": [
    "continuous_3o_mechs = [m for m in continuous_mechs if len(m)==3]"
   ]
  },
  {
   "cell_type": "code",
   "execution_count": 237,
   "metadata": {},
   "outputs": [],
   "source": [
    "allrelations = pickle.load(open('space_2relations.pkl','rb'))\n",
    "relations5k = random.sample(allrelations,5000)\n",
    "relations15k = random.sample(allrelations,15000)\n",
    "example_mechs = [(3,4),(2,3,4),(3,4,5),(2,3,4,5)]\n",
    "cde_def_rels = [r for r in allrelations if (2,3,4) in r.mechanisms or (3,4,5) in r.mechanisms]\n",
    "cde_rels = [r for r in allrelations if (2,3,4) in r.mechanisms]\n",
    "example_rels = [r for r in allrelations if any(m in r.mechanisms for m in example_mechs)]\n",
    "third_order_contexts = [r for r in allrelations if any(cm in r.mechanisms for cm in continuous_3o_mechs)]\n",
    "continuous_mechs_rels = [r for r in allrelations if all(m in continuous_mechs for m in r.mechanisms)]\n",
    "relations = third_order_contexts"
   ]
  },
  {
   "cell_type": "code",
   "execution_count": 238,
   "metadata": {},
   "outputs": [],
   "source": [
    "continuous_mechs_coords = np.concatenate([coord for coord in coords])"
   ]
  },
  {
   "cell_type": "code",
   "execution_count": 239,
   "metadata": {},
   "outputs": [],
   "source": [
    "discontinuous_mechs_z = 10\n",
    "\n",
    "mech_coords = []\n",
    "purv_coords = []\n",
    "\n",
    "for c in ces:\n",
    "    if c.mechanism in continuous_mechs:\n",
    "        for m,mech in enumerate(continuous_mechs):\n",
    "            if c.mechanism==mech:\n",
    "                mech_coords.append(continuous_mechs_coords[m])\n",
    "                purv_coords.append(continuous_mechs_coords[m])\n",
    "                purv_coords.append(continuous_mechs_coords[m])\n",
    "    else:\n",
    "        mech_coords.append(np.array([0,0,discontinuous_mechs_z]))\n",
    "        purv_coords.append(np.array([0,0,discontinuous_mechs_z]))\n",
    "        purv_coords.append(np.array([0,0,discontinuous_mechs_z]))        \n",
    "\n",
    "mech_coords = np.squeeze(mech_coords)\n",
    "purv_coords = np.squeeze(purv_coords)\n",
    "\n",
    "mech_coords = mech_coords.transpose()"
   ]
  },
  {
   "cell_type": "code",
   "execution_count": 240,
   "metadata": {},
   "outputs": [],
   "source": [
    "# fig = vis.plot_ces_epicycles(subsystem,ces,relations,network_name='space-cone-3rd-o-contexts',\n",
    "#     link_width_range=(1, 3),\n",
    "#     eye_coordinates=(-1.5, 1, 0),\n",
    "#     mechanism_labels_size=15,\n",
    "#     purview_labels_size=8,\n",
    "#     mechanism_label_position=\"middle center\",\n",
    "#     purview_label_position=\"middle center\",                         \n",
    "#     user_mechanism_coords=(mech_coords),\n",
    "#     user_purview_coords=purv_coords,\n",
    "#     hovermode=False,\n",
    "#     show_links=False,\n",
    "#     show_purview_labels='legendonly',\n",
    "#     edge_size_range=(1, 5),\n",
    "#                             )"
   ]
  },
  {
   "cell_type": "code",
   "execution_count": 244,
   "metadata": {},
   "outputs": [
    {
     "data": {
      "application/vnd.jupyter.widget-view+json": {
       "model_id": "",
       "version_major": 2,
       "version_minor": 0
      },
      "text/plain": [
       "Computing edges:   0%|          | 0/1808 [00:00<?, ?it/s]"
      ]
     },
     "metadata": {},
     "output_type": "display_data"
    }
   ],
   "source": [
    "fig = vis.plot_ces_epicycles(subsystem,ces,example_rels,network_name='space-cone-example-mechs',\n",
    "    link_width_range=(1, 3),\n",
    "    eye_coordinates=(-1.5, 1, 0),\n",
    "    mechanism_labels_size=15,\n",
    "    purview_labels_size=8,\n",
    "    mechanism_label_position=\"middle center\",\n",
    "    purview_label_position=\"middle center\",                         \n",
    "    user_mechanism_coords=(mech_coords),\n",
    "    user_purview_coords=purv_coords,\n",
    "    hovermode=False,\n",
    "    show_links=False,\n",
    "    show_purview_labels='legendonly',\n",
    "    edge_size_range=(0.1, 5),\n",
    "                            )"
   ]
  },
  {
   "cell_type": "code",
   "execution_count": 247,
   "metadata": {},
   "outputs": [
    {
     "data": {
      "application/vnd.jupyter.widget-view+json": {
       "model_id": "0a1b039d354b488582e64fcf11b574e6",
       "version_major": 2,
       "version_minor": 0
      },
      "text/plain": [
       "Computing edges:   0%|          | 0/1808 [00:00<?, ?it/s]"
      ]
     },
     "metadata": {},
     "output_type": "display_data"
    }
   ],
   "source": [
    "# fig = vis.plot_ces_epicycles(subsystem,ces,example_rels,network_name='space-cone-example-mechs-intersect',\n",
    "#     link_width_range=(1, 3),\n",
    "#     eye_coordinates=(-1.5, 1, 0),\n",
    "#     mechanism_labels_size=15,\n",
    "#     purview_labels_size=8,\n",
    "#     mechanism_label_position=\"middle center\",\n",
    "#     purview_label_position=\"middle center\",                         \n",
    "#     user_mechanism_coords=(mech_coords),\n",
    "#     user_purview_coords=purv_coords,\n",
    "#     hovermode=False,\n",
    "#     show_links=False,\n",
    "#     show_purview_labels='legendonly',\n",
    "#     edge_size_range=(0.1, 5),\n",
    "#     intersect_mechanisms=example_mechs\n",
    "#                             )"
   ]
  },
  {
   "cell_type": "code",
   "execution_count": 243,
   "metadata": {},
   "outputs": [
    {
     "data": {
      "application/vnd.jupyter.widget-view+json": {
       "model_id": "3a8ed200c5c8440b8c3a598c33b8aab6",
       "version_major": 2,
       "version_minor": 0
      },
      "text/plain": [
       "Computing edges:   0%|          | 0/1716 [00:00<?, ?it/s]"
      ]
     },
     "metadata": {},
     "output_type": "display_data"
    }
   ],
   "source": [
    "fig = vis.plot_ces_epicycles(subsystem,ces,continuous_mechs_rels,network_name='space-cone-continuous-mechs-rels',\n",
    "    link_width_range=(1, 3),\n",
    "    eye_coordinates=(-1.5, 1, 0),\n",
    "    mechanism_labels_size=15,\n",
    "    purview_labels_size=8,\n",
    "    mechanism_label_position=\"middle center\",\n",
    "    purview_label_position=\"middle center\",                         \n",
    "    user_mechanism_coords=(mech_coords),\n",
    "    user_purview_coords=purv_coords,\n",
    "    hovermode=False,\n",
    "    show_links=False,\n",
    "    show_purview_labels='legendonly',\n",
    "    edge_size_range=(0.01, 7),\n",
    "#     show_edges=False,\n",
    "                             \n",
    "                            )"
   ]
  },
  {
   "cell_type": "code",
   "execution_count": 248,
   "metadata": {},
   "outputs": [
    {
     "data": {
      "application/vnd.jupyter.widget-view+json": {
       "model_id": "37bb5dda61e64a20b1035b36eb366150",
       "version_major": 2,
       "version_minor": 0
      },
      "text/plain": [
       "Computing edges:   0%|          | 0/912 [00:00<?, ?it/s]"
      ]
     },
     "metadata": {},
     "output_type": "display_data"
    }
   ],
   "source": [
    "fig = vis.plot_ces_epicycles(subsystem,ces,cde_def_rels,network_name='space-cone-cde-def',\n",
    "    link_width_range=(1, 3),\n",
    "    eye_coordinates=(-1.5, 1, 0),\n",
    "    mechanism_labels_size=15,\n",
    "    purview_labels_size=8,\n",
    "    mechanism_label_position=\"middle center\",\n",
    "    purview_label_position=\"middle center\",                         \n",
    "    user_mechanism_coords=(mech_coords),\n",
    "    user_purview_coords=purv_coords,\n",
    "    hovermode=False,\n",
    "    show_links=False,\n",
    "    show_purview_labels='legendonly',\n",
    "    edge_size_range=(1, 5),\n",
    "                            )"
   ]
  },
  {
   "cell_type": "code",
   "execution_count": 209,
   "metadata": {},
   "outputs": [],
   "source": [
    "# fig = vis.plot_ces_epicycles(subsystem,ces,relations15k,network_name='space-cone-relations15k',\n",
    "#     link_width_range=(1, 3),\n",
    "#     eye_coordinates=(-1.5, 1, 0),\n",
    "#     mechanism_labels_size=15,\n",
    "#     purview_labels_size=8,\n",
    "#     mechanism_label_position=\"top center\",\n",
    "#     purview_label_position=\"middle center\",                         \n",
    "#     user_mechanism_coords=(mech_coords),\n",
    "#     user_purview_coords=purv_coords,\n",
    "#     hovermode=False,\n",
    "#     show_links=False,\n",
    "#     show_purview_labels='legendonly',\n",
    "# #     edge_size_range=(1, 5),\n",
    "#                             )"
   ]
  },
  {
   "cell_type": "code",
   "execution_count": 210,
   "metadata": {},
   "outputs": [],
   "source": [
    "# fig = vis.plot_ces_epicycles(subsystem,ces,allrelations,network_name='space-cone-all2relations',\n",
    "#     link_width_range=(1, 3),\n",
    "#     eye_coordinates=(-1.5, 1, 0),\n",
    "#     mechanism_labels_size=15,\n",
    "#     purview_labels_size=8,\n",
    "#     mechanism_label_position=\"middle center\",\n",
    "#     purview_label_position=\"middle center\",                         \n",
    "#     user_mechanism_coords=(mech_coords),\n",
    "#     user_purview_coords=purv_coords,\n",
    "#     hovermode=False,\n",
    "#     show_links=False,\n",
    "#     show_purview_labels='legendonly',\n",
    "# #     edge_size_range=(1, 5),\n",
    "#                             )"
   ]
  },
  {
   "cell_type": "code",
   "execution_count": null,
   "metadata": {},
   "outputs": [],
   "source": []
  },
  {
   "cell_type": "code",
   "execution_count": null,
   "metadata": {},
   "outputs": [],
   "source": []
  }
 ],
 "metadata": {
  "kernelspec": {
   "display_name": "Python 3",
   "language": "python",
   "name": "python3"
  },
  "language_info": {
   "codemirror_mode": {
    "name": "ipython",
    "version": 3
   },
   "file_extension": ".py",
   "mimetype": "text/x-python",
   "name": "python",
   "nbconvert_exporter": "python",
   "pygments_lexer": "ipython3",
   "version": "3.7.10"
  },
  "metadata": {
   "interpreter": {
    "hash": "31f2aee4e71d21fbe5cf8b01ff0e069b9275f58929596ceb00d14d90e3e16cd6"
   }
  }
 },
 "nbformat": 4,
 "nbformat_minor": 2
}
