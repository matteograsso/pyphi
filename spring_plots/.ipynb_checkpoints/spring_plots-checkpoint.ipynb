{
 "cells": [
  {
   "cell_type": "markdown",
   "metadata": {},
   "source": [
    "# a spring coupled mass simulator to create positions of mechanisms and purviews of a CES "
   ]
  },
  {
   "cell_type": "code",
   "execution_count": 1,
   "metadata": {},
   "outputs": [
    {
     "name": "stdout",
     "output_type": "stream",
     "text": [
      "\n",
      "Welcome to PyPhi!\n",
      "\n",
      "If you use PyPhi in your research, please cite the paper:\n",
      "\n",
      "  Mayner WGP, Marshall W, Albantakis L, Findlay G, Marchman R, Tononi G.\n",
      "  (2018). PyPhi: A toolbox for integrated information theory.\n",
      "  PLOS Computational Biology 14(7): e1006343.\n",
      "  https://doi.org/10.1371/journal.pcbi.1006343\n",
      "\n",
      "Documentation is available online (or with the built-in `help()` function):\n",
      "  https://pyphi.readthedocs.io\n",
      "\n",
      "To report issues, please use the issue tracker on the GitHub repository:\n",
      "  https://github.com/wmayner/pyphi\n",
      "\n",
      "For general discussion, you are welcome to join the pyphi-users group:\n",
      "  https://groups.google.com/forum/#!forum/pyphi-users\n",
      "\n",
      "To suppress this message, either:\n",
      "  - Set `WELCOME_OFF: true` in your `pyphi_config.yml` file, or\n",
      "  - Set the environment variable PYPHI_WELCOME_OFF to any value in your shell:\n",
      "        export PYPHI_WELCOME_OFF='yes'\n",
      "\n"
     ]
    }
   ],
   "source": [
    "import numpy as np\n",
    "import math\n",
    "import pickle as pkl\n",
    "\n",
    "from pyphi import visualize as viz\n",
    "from pyphi import relations as rel\n",
    "\n",
    "import matplotlib.pyplot as plt\n",
    "import string\n",
    "\n",
    "import random"
   ]
  },
  {
   "cell_type": "code",
   "execution_count": 2,
   "metadata": {},
   "outputs": [],
   "source": [
    "def strip_punct(s):\n",
    "    return str(s.translate(str.maketrans({key: None for key in string.punctuation})).replace(' ', ''))\n",
    "\n",
    "def update_position(position,force,delta):\n",
    "    return -position*force*delta\n",
    "\n",
    "def compute_force(self_position,other_positions,ks):\n",
    "    return np.sum([k*(self_position-position) for k,position in zip(ks,other_positions)])\n",
    "    \n",
    "def get_interactions(ces,rels):\n",
    "    \n",
    "    separated_ces = rel.separate_ces(ces)\n",
    "    N = len(ces)\n",
    "    M = len(separated_ces)\n",
    "    \n",
    "    # denote what components each purview will be affected by \n",
    "    # first the mechanisms\n",
    "    features_mechs = np.zeros((M,N))\n",
    "    for i in range(N):\n",
    "        features_mechs[2*i:2*i+2, i] = 1\n",
    "        \n",
    "    # next the relations\n",
    "    features_rels = viz.feature_matrix(rel.separate_ces(ces), rels)\n",
    "    features_rels = viz.feature_matrix(rel.separate_ces(ces), rels)\n",
    "    # features now contains information about any distinction or relation each purview is associated to\n",
    "    # next, we exchange the 1's with phi values\n",
    "    # frist for distinctions\n",
    "    for i in range(M):\n",
    "        features_mechs[i,:] *= separated_ces[i].phi\n",
    "        \n",
    "    for i in range(len(rels)):\n",
    "        features_rels[:,i] *= rels[i].phi/len(rels[i].relata)\n",
    "    \n",
    "    # getting the interactions between constituents\n",
    "    interactions = np.zeros((N+M,N+M))\n",
    "    \n",
    "    # filling with mechanism-purview interactions\n",
    "    interactions[N:,:N] = features_mechs\n",
    "    interactions[:N,N:] = np.transpose(features_mechs)\n",
    "    \n",
    "    # now for the purview-purview interactions\n",
    "    relrel = np.zeros((M,M))\n",
    "    for i,feature in enumerate(features_rels):\n",
    "        for r in feature.nonzero()[0]:\n",
    "            for j in features_rels[:,r].nonzero()[0]:\n",
    "                if not i==j:\n",
    "                    relrel[i,j] += feature[r]\n",
    "                    relrel[j,i] += feature[r]\n",
    "                    \n",
    "    #renormalizing to have same max as mechanisms interactions\n",
    "    relrel = relrel*np.max(interactions[N:,:N])/np.max(relrel)\n",
    "    \n",
    "    interactions[N:, N:] = relrel\n",
    "    \n",
    "    return interactions\n",
    "\n",
    "\n",
    "def equilibriate(ks,purviews,x,y,z=None,T=100,delta=0.01):\n",
    "    if z is None:\n",
    "        z=np.zeros(len(x))\n",
    "    for t in range(T):\n",
    "        for i in purviews:\n",
    "            x[i] += update_position(x[i],compute_force(x[i],x,ks[i]),delta)\n",
    "            y[i] += update_position(y[i],compute_force(y[i],y,ks[i]),delta)\n",
    "            z[i] += update_position(z[i],compute_force(z[i],z,ks[i]),delta)\n",
    "        \n",
    "    return x, y, z\n",
    "\n",
    "def initialize_positions(ces, center=(1,1), z=0, radius=1):\n",
    "    mechs = viz.regular_polygon(len(ces), center=center, angle=0, z=0, radius=radius, scale=1)\n",
    "    purviews = viz.regular_polygon(2*len(ces), center=center, angle=math.pi / (len(ces)), z=0, radius=radius, scale=0.9)\n",
    "    return np.array(mechs+purviews)"
   ]
  },
  {
   "cell_type": "markdown",
   "metadata": {},
   "source": [
    "# Chapter 3 system"
   ]
  },
  {
   "cell_type": "code",
   "execution_count": 3,
   "metadata": {},
   "outputs": [],
   "source": [
    "with open(r\"ch3_ces.pkl\", \"rb\") as f:\n",
    "    ces = pkl.load(f)\n",
    "    \n",
    "with open(r\"ch3_rels.pkl\", \"rb\") as f:\n",
    "    rels = pkl.load(f)\n",
    "    \n",
    "with open(r\"ch3_subsystem.pkl\", \"rb\") as f:\n",
    "    system = pkl.load(f)"
   ]
  },
  {
   "cell_type": "code",
   "execution_count": 4,
   "metadata": {},
   "outputs": [],
   "source": [
    "xyz = initialize_positions(ces)\n",
    "\n",
    "# plt.scatter(xyz[:,0],xyz[:,1])\n",
    "# plt.show()\n",
    "\n",
    "k = get_interactions(ces,rels)\n",
    "\n",
    "purview_indices = tuple(range(15,45))\n",
    "x,y,z = equilibriate(k,purview_indices,xyz[:,0],xyz[:,1])\n",
    "\n",
    "# plt.scatter(x,y)\n",
    "# plt.show()"
   ]
  },
  {
   "cell_type": "code",
   "execution_count": 5,
   "metadata": {},
   "outputs": [],
   "source": [
    "labels = [strip_punct(str(system.indices2nodes(c.mechanism))) for c in ces]+[strip_punct(str(system.indices2nodes(c.purview))) for c in rel.separate_ces(ces)]\n",
    "\n",
    "mech_coords = [x[:len(ces)],y[:len(ces)],np.zeros(len(ces))]\n",
    "purv_coords = np.array([\n",
    "    [x[len(ces):][i],y[len(ces):][i],np.zeros(2*len(ces))[i]]\n",
    "     for i in range(2*len(ces))\n",
    "])"
   ]
  },
  {
   "cell_type": "code",
   "execution_count": 7,
   "metadata": {},
   "outputs": [
    {
     "data": {
      "application/vnd.jupyter.widget-view+json": {
       "model_id": "239e32117ae241f58aa208cfcf79c178",
       "version_major": 2,
       "version_minor": 0
      },
      "text/plain": [
       "Computing edges:   0%|          | 0/201 [00:00<?, ?it/s]"
      ]
     },
     "metadata": {},
     "output_type": "display_data"
    },
    {
     "data": {
      "application/vnd.jupyter.widget-view+json": {
       "model_id": "0c882e621eb2478a916b20e646ff49a0",
       "version_major": 2,
       "version_minor": 0
      },
      "text/plain": [
       "Computing triangles:   0%|          | 0/677 [00:00<?, ?it/s]"
      ]
     },
     "metadata": {},
     "output_type": "display_data"
    }
   ],
   "source": [
    "fig = viz.plot_ces_epicycles(system,ces,rels,network_name='ch3_spring',\n",
    "                             user_mechanism_coords=mech_coords,\n",
    "                             user_purview_coords=purv_coords,\n",
    "                             link_width_range=(1,3),\n",
    "                             eye_coordinates=(0,0,1),\n",
    "                             mechanism_labels_size=8,\n",
    "                             purview_labels_size=8,\n",
    "                             mechanism_label_position='middle center',\n",
    "                             purview_label_position='middle center',\n",
    "                             show_purview_labels=True,\n",
    ")"
   ]
  },
  {
   "cell_type": "markdown",
   "metadata": {},
   "source": [
    "# Space"
   ]
  },
  {
   "cell_type": "code",
   "execution_count": 8,
   "metadata": {},
   "outputs": [],
   "source": [
    "with open(r\"space_ces_with_nodelabels.pkl\", \"rb\") as f:\n",
    "    ces = pkl.load(f)\n",
    "    \n",
    "with open(r\"space_subsystem.pkl\", \"rb\") as f:\n",
    "    system = pkl.load(f)\n",
    "    \n",
    "with open(r\"space_2relations.pkl\", \"rb\") as f:    \n",
    "    #This file includes all 2-relations (~30k)\n",
    "    tworels = pkl.load(f)  \n",
    "sample2rels = random.sample(tworels,5000)"
   ]
  },
  {
   "cell_type": "code",
   "execution_count": 9,
   "metadata": {},
   "outputs": [],
   "source": [
    "rels = sample2rels"
   ]
  },
  {
   "cell_type": "code",
   "execution_count": 10,
   "metadata": {},
   "outputs": [],
   "source": [
    "xyz = initialize_positions(ces)\n",
    "\n",
    "# plt.scatter(xyz[:,0],xyz[:,1])\n",
    "# plt.show()\n",
    "\n",
    "k = get_interactions(ces,rels)\n",
    "\n",
    "purview_indices = tuple(range(len(ces),len(ces)*3))\n",
    "x,y,z = equilibriate(k,purview_indices,xyz[:,0],xyz[:,1])\n",
    "\n",
    "# plt.scatter(x,y)\n",
    "# plt.show()"
   ]
  },
  {
   "cell_type": "code",
   "execution_count": 11,
   "metadata": {},
   "outputs": [],
   "source": [
    "labels = [strip_punct(str(system.indices2nodes(c.mechanism))) for c in ces]+[strip_punct(str(system.indices2nodes(c.purview))) for c in rel.separate_ces(ces)]\n",
    "\n",
    "mech_coords = [x[:len(ces)],y[:len(ces)],np.zeros(len(ces))]\n",
    "purv_coords = np.array([\n",
    "    [x[len(ces):][i],y[len(ces):][i],np.zeros(2*len(ces))[i]]\n",
    "     for i in range(2*len(ces))\n",
    "])"
   ]
  },
  {
   "cell_type": "code",
   "execution_count": 12,
   "metadata": {},
   "outputs": [
    {
     "data": {
      "application/vnd.jupyter.widget-view+json": {
       "model_id": "eaf11e16fc7a4f96beb070580ff05313",
       "version_major": 2,
       "version_minor": 0
      },
      "text/plain": [
       "Computing edges:   0%|          | 0/5000 [00:00<?, ?it/s]"
      ]
     },
     "metadata": {},
     "output_type": "display_data"
    }
   ],
   "source": [
    "fig = viz.plot_ces_epicycles(system,ces,rels,network_name='space_spring_2rels_5k',\n",
    "                             user_mechanism_coords=mech_coords,\n",
    "                             user_purview_coords=purv_coords,\n",
    "                             link_width_range=(1,3),\n",
    "                             eye_coordinates=(0,0,1),\n",
    "                             mechanism_labels_size=8,\n",
    "                             purview_labels_size=8,\n",
    "                             mechanism_label_position='middle center',\n",
    "                             purview_label_position='middle center',\n",
    "                             show_purview_labels='legendonly',                             \n",
    ")"
   ]
  },
  {
   "cell_type": "code",
   "execution_count": null,
   "metadata": {},
   "outputs": [],
   "source": []
  }
 ],
 "metadata": {
  "kernelspec": {
   "display_name": "Python 3",
   "language": "python",
   "name": "python3"
  },
  "language_info": {
   "codemirror_mode": {
    "name": "ipython",
    "version": 3
   },
   "file_extension": ".py",
   "mimetype": "text/x-python",
   "name": "python",
   "nbconvert_exporter": "python",
   "pygments_lexer": "ipython3",
   "version": "3.7.10"
  }
 },
 "nbformat": 4,
 "nbformat_minor": 4
}
