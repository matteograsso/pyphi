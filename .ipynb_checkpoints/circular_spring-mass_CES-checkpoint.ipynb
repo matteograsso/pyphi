{
 "cells": [
  {
   "cell_type": "markdown",
   "metadata": {},
   "source": [
    "# a spring coupled mass simulator to create positions of mechanisms and purviews of a CES "
   ]
  },
  {
   "cell_type": "code",
   "execution_count": 1,
   "metadata": {},
   "outputs": [
    {
     "name": "stdout",
     "output_type": "stream",
     "text": [
      "\n",
      "Welcome to PyPhi!\n",
      "\n",
      "If you use PyPhi in your research, please cite the paper:\n",
      "\n",
      "  Mayner WGP, Marshall W, Albantakis L, Findlay G, Marchman R, Tononi G.\n",
      "  (2018). PyPhi: A toolbox for integrated information theory.\n",
      "  PLOS Computational Biology 14(7): e1006343.\n",
      "  https://doi.org/10.1371/journal.pcbi.1006343\n",
      "\n",
      "Documentation is available online (or with the built-in `help()` function):\n",
      "  https://pyphi.readthedocs.io\n",
      "\n",
      "To report issues, please use the issue tracker on the GitHub repository:\n",
      "  https://github.com/wmayner/pyphi\n",
      "\n",
      "For general discussion, you are welcome to join the pyphi-users group:\n",
      "  https://groups.google.com/forum/#!forum/pyphi-users\n",
      "\n",
      "To suppress this message, either:\n",
      "  - Set `WELCOME_OFF: true` in your `pyphi_config.yml` file, or\n",
      "  - Set the environment variable PYPHI_WELCOME_OFF to any value in your shell:\n",
      "        export PYPHI_WELCOME_OFF='yes'\n",
      "\n"
     ]
    }
   ],
   "source": [
    "import numpy as np\n",
    "import math\n",
    "import pickle as pkl\n",
    "\n",
    "from pyphi import visualize as viz\n",
    "from pyphi import relations as rel\n",
    "\n",
    "import matplotlib.pyplot as plt"
   ]
  },
  {
   "cell_type": "code",
   "execution_count": 2,
   "metadata": {},
   "outputs": [],
   "source": [
    "def update_position(position,force,delta):\n",
    "    return -position*force*delta\n",
    "\n",
    "def compute_force(self_position,other_positions,ks):\n",
    "    return np.sum([k*(self_position-position) for k,position in zip(ks,other_positions)])\n",
    "    \n",
    "def get_interactions(ces,rels):\n",
    "    \n",
    "    separated_ces = rel.separate_ces(ces)\n",
    "    N = len(ces)\n",
    "    M = len(separated_ces)\n",
    "    \n",
    "    # denote what components each purview will be affected by \n",
    "    # first the mechanisms\n",
    "    features_mechs = np.zeros((M,N))\n",
    "    for i in range(N):\n",
    "        features_mechs[2*i:2*i+2, i] = 1\n",
    "        \n",
    "    # next the relations\n",
    "    features_rels = viz.feature_matrix(rel.separate_ces(ces), rels)\n",
    "    features_rels = viz.feature_matrix(rel.separate_ces(ces), rels)\n",
    "    # features now contains information about any distinction or relation each purview is associated to\n",
    "    # next, we exchange the 1's with phi values\n",
    "    # frist for distinctions\n",
    "    for i in range(M):\n",
    "        features_mechs[i,:] *= separated_ces[i].phi\n",
    "        \n",
    "    for i in range(len(rels)):\n",
    "        features_rels[:,i] *= rels[i].phi/len(rels[i].relata)\n",
    "    \n",
    "    # getting the interactions between constituents\n",
    "    interactions = np.zeros((N+M,N+M))\n",
    "    \n",
    "    # filling with mechanism-purview interactions\n",
    "    interactions[N:,:N] = features_mechs\n",
    "    interactions[:N,N:] = np.transpose(features_mechs)\n",
    "    \n",
    "    # now for the purview-purview interactions\n",
    "    relrel = np.zeros((M,M))\n",
    "    for i,feature in enumerate(features_rels):\n",
    "        for r in feature.nonzero()[0]:\n",
    "            for j in features_rels[:,r].nonzero()[0]:\n",
    "                if not i==j:\n",
    "                    relrel[i,j] += feature[r]\n",
    "                    relrel[j,i] += feature[r]\n",
    "                    \n",
    "    #renormalizing to have same max as mechanisms interactions\n",
    "    relrel = relrel*np.max(interactions[N:,:N])/np.max(relrel)\n",
    "    \n",
    "    interactions[N:, N:] = relrel\n",
    "    \n",
    "    return interactions\n",
    "\n",
    "\n",
    "def equilibriate(ks,purviews,x,y,z=None,T=100,delta=0.01):\n",
    "    if z is None:\n",
    "        z=np.zeros(len(x))\n",
    "    for t in range(T):\n",
    "        for i in purviews:\n",
    "            x[i] += update_position(x[i],compute_force(x[i],x,ks[i]),delta)\n",
    "            y[i] += update_position(y[i],compute_force(y[i],y,ks[i]),delta)\n",
    "            z[i] += update_position(z[i],compute_force(z[i],z,ks[i]),delta)\n",
    "        \n",
    "    return x, y, z\n",
    "\n",
    "def initialize_positions(ces, center=(1,1), z=0, radius=1):\n",
    "    mechs = viz.regular_polygon(len(ces), center=center, angle=0, z=0, radius=radius, scale=1)\n",
    "    purviews = viz.regular_polygon(2*len(ces), center=center, angle=math.pi / (len(ces)), z=0, radius=radius, scale=0.9)\n",
    "    return np.array(mechs+purviews)"
   ]
  },
  {
   "cell_type": "code",
   "execution_count": 3,
   "metadata": {},
   "outputs": [],
   "source": [
    "with open(r\"ch3_ces.pkl\", \"rb\") as f:\n",
    "    ces = pkl.load(f)\n",
    "    \n",
    "with open(r\"ch3_rels.pkl\", \"rb\") as f:\n",
    "    rels = pkl.load(f)\n",
    "    \n",
    "with open(r\"ch3_subsystem.pkl\", \"rb\") as f:\n",
    "    system = pkl.load(f)"
   ]
  },
  {
   "cell_type": "code",
   "execution_count": 4,
   "metadata": {},
   "outputs": [],
   "source": [
    "xyz = initialize_positions(ces)"
   ]
  },
  {
   "cell_type": "code",
   "execution_count": 5,
   "metadata": {},
   "outputs": [
    {
     "data": {
      "text/plain": [
       "<matplotlib.collections.PathCollection at 0x7fdfc5815550>"
      ]
     },
     "execution_count": 5,
     "metadata": {},
     "output_type": "execute_result"
    },
    {
     "data": {
      "image/png": "[encoded data removed]",
      "text/plain": [
       "<Figure size 432x288 with 1 Axes>"
      ]
     },
     "metadata": {
      "needs_background": "light"
     },
     "output_type": "display_data"
    }
   ],
   "source": [
    "\n",
    "plt.scatter(xyz[:,0],xyz[:,1])"
   ]
  },
  {
   "cell_type": "code",
   "execution_count": 6,
   "metadata": {},
   "outputs": [],
   "source": [
    "k = get_interactions(ces,rels)"
   ]
  },
  {
   "cell_type": "code",
   "execution_count": 9,
   "metadata": {},
   "outputs": [],
   "source": [
    "purview_indices = tuple(range(15,45))\n",
    "x,y,z = equilibriate(k,purview_indices,xyz[:,0],xyz[:,1])"
   ]
  },
  {
   "cell_type": "code",
   "execution_count": 10,
   "metadata": {},
   "outputs": [
    {
     "data": {
      "text/plain": [
       "<matplotlib.collections.PathCollection at 0x7fdfc56645d0>"
      ]
     },
     "execution_count": 10,
     "metadata": {},
     "output_type": "execute_result"
    },
    {
     "data": {
      "image/png": "[encoded data removed]",
      "text/plain": [
       "<Figure size 432x288 with 1 Axes>"
      ]
     },
     "metadata": {
      "needs_background": "light"
     },
     "output_type": "display_data"
    }
   ],
   "source": [
    "plt.scatter(x,y)"
   ]
  },
  {
   "cell_type": "code",
   "execution_count": null,
   "metadata": {},
   "outputs": [],
   "source": []
  },
  {
   "cell_type": "code",
   "execution_count": null,
   "metadata": {},
   "outputs": [],
   "source": []
  }
 ],
 "metadata": {
  "kernelspec": {
   "display_name": "Python 3",
   "language": "python",
   "name": "python3"
  },
  "language_info": {
   "codemirror_mode": {
    "name": "ipython",
    "version": 3
   },
   "file_extension": ".py",
   "mimetype": "text/x-python",
   "name": "python",
   "nbconvert_exporter": "python",
   "pygments_lexer": "ipython3",
   "version": "3.7.9"
  }
 },
 "nbformat": 4,
 "nbformat_minor": 4
}
